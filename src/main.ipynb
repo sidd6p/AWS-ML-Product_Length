{
  "nbformat": 4,
  "nbformat_minor": 0,
  "metadata": {
    "colab": {
      "provenance": [],
      "collapsed_sections": [
        "YWb3ayNHFc3U"
      ],
      "include_colab_link": true
    },
    "kernelspec": {
      "name": "python3",
      "display_name": "Python 3"
    },
    "language_info": {
      "name": "python"
    },
    "accelerator": "GPU",
    "gpuClass": "standard"
  },
  "cells": [
    {
      "cell_type": "markdown",
      "metadata": {
        "id": "view-in-github",
        "colab_type": "text"
      },
      "source": [
        "<a href=\"https://colab.research.google.com/github/sidd6p/AWS-ML-Product_Length/blob/main/src/main.ipynb\" target=\"_parent\"><img src=\"https://colab.research.google.com/assets/colab-badge.svg\" alt=\"Open In Colab\"/></a>"
      ]
    },
    {
      "cell_type": "markdown",
      "source": [
        "# Load Data"
      ],
      "metadata": {
        "id": "YWb3ayNHFc3U"
      }
    },
    {
      "cell_type": "code",
      "execution_count": 357,
      "metadata": {
        "id": "lXVXRZmI2VGQ"
      },
      "outputs": [],
      "source": [
        "import pandas as pd\n",
        "import matplotlib.pyplot as plt\n",
        "import numpy as np\n",
        "import seaborn as sns\n",
        "import tensorflow as tf"
      ]
    },
    {
      "cell_type": "code",
      "source": [
        "from sklearn import preprocessing\n",
        "from sklearn.model_selection import train_test_split\n",
        "from tensorflow.keras import layers"
      ],
      "metadata": {
        "id": "fDmSbn5oDiEI"
      },
      "execution_count": 358,
      "outputs": []
    },
    {
      "cell_type": "code",
      "source": [
        "!pip install -U -q PyDrive\n",
        "\n",
        "from pydrive.auth import GoogleAuth\n",
        "from pydrive.drive import GoogleDrive\n",
        "from google.colab import auth\n",
        "from oauth2client.client import GoogleCredentials\n",
        "\n",
        "\n",
        "# Authenticate and create the PyDrive client.\n",
        "auth.authenticate_user()\n",
        "gauth = GoogleAuth()\n",
        "gauth.credentials = GoogleCredentials.get_application_default()\n",
        "drive = GoogleDrive(gauth)"
      ],
      "metadata": {
        "id": "2L4PoUOCmomg"
      },
      "execution_count": 359,
      "outputs": []
    },
    {
      "cell_type": "code",
      "source": [
        "link=\"https://drive.google.com/file/d/16ZHfZwv8VV2jGWRrJgfqalAOcDc7gTJH/view?usp=share_link\"\n",
        "import pandas as pd\n",
        "\n",
        "# to get the id part of the file\n",
        "id = link.split(\"/\")[-2]\n",
        "\n",
        "downloaded = drive.CreateFile({'id':id})\n",
        "downloaded.GetContentFile('train_this.csv')\n"
      ],
      "metadata": {
        "id": "RlIbUuyIxwS9"
      },
      "execution_count": 360,
      "outputs": []
    },
    {
      "cell_type": "code",
      "source": [
        "raw_data = pd.read_csv('train_this.csv')"
      ],
      "metadata": {
        "id": "iscRdaM3DIHx"
      },
      "execution_count": 361,
      "outputs": []
    },
    {
      "cell_type": "code",
      "source": [
        "raw_data"
      ],
      "metadata": {
        "colab": {
          "base_uri": "https://localhost:8080/",
          "height": 0
        },
        "id": "KHezl7K2Q7Ke",
        "outputId": "ba82bad8-cc7e-4e2a-9858-cda3e0d115a6"
      },
      "execution_count": 362,
      "outputs": [
        {
          "output_type": "execute_result",
          "data": {
            "text/plain": [
              "        PRODUCT_ID                                              TITLE  \\\n",
              "0               22  Quantum Mechanics, 2nd Edition (Special Indian...   \n",
              "1               27  The Lion, the Witch and the Wardrobe (The Chro...   \n",
              "2               30                                   My Cousin Rachel   \n",
              "3               33                                         Coriolanus   \n",
              "4               37                                       The Crucible   \n",
              "...            ...                                                ...   \n",
              "118147     2999928  Beat Top Model Car 9 inch Full Touch Screen An...   \n",
              "118148     2999930                          Black Panther: 2018 (DVD)   \n",
              "118149     2999937  Customized Happy Anniversary Wooden Photo Fram...   \n",
              "118150     2999946  LAKWAL Handcrafted Brass Golden Kamdhenu Cow w...   \n",
              "118151     2999993  Roffatide Anime Cartoon Plush Doll Backpack Ka...   \n",
              "\n",
              "                                            BULLET_POINTS  \\\n",
              "0                                                     NaN   \n",
              "1                                                     NaN   \n",
              "2                                                     NaN   \n",
              "3                                                     NaN   \n",
              "4                                                     NaN   \n",
              "...                                                   ...   \n",
              "118147  [2GB RAM/16GB ROM With 1 Year Warranty: Develo...   \n",
              "118148                                          DVD MOVIE   \n",
              "118149  [Photo Quantity: 4 Images Required,Dimension: ...   \n",
              "118150  [Measures Length: 17 CM, Width:12 CM, Height:1...   \n",
              "118151  [Material: plush material.,Measurements: 10.6 ...   \n",
              "\n",
              "                                              DESCRIPTION  PRODUCT_TYPE_ID  \\\n",
              "0                                                     NaN             6322   \n",
              "1                                                     NaN               42   \n",
              "2                                                     NaN               99   \n",
              "3                                                     NaN              113   \n",
              "4                                                     NaN              113   \n",
              "...                                                   ...              ...   \n",
              "118147  Product Version: Hi-Fi Version with Vertical o...             2108   \n",
              "118148  After his father's death, T'Challa returns hom...                3   \n",
              "118149  Express Your Love & Feelings On Valentines, An...            12228   \n",
              "118150  Handcrafted Large Gold Elegant Kamdhenu Cow an...             5506   \n",
              "118151  <br><br><b>You can search 'Anime' in our store...             3421   \n",
              "\n",
              "        PRODUCT_LENGTH  CATEGORY  \n",
              "0           787.400000         5  \n",
              "1           417.322000         4  \n",
              "2           417.322000         4  \n",
              "3           417.322000         4  \n",
              "4           417.322000         4  \n",
              "...                ...       ...  \n",
              "118147      984.251967         5  \n",
              "118148     1102.362204         6  \n",
              "118149     1259.842518         6  \n",
              "118150      669.291338         5  \n",
              "118151     1062.992125         6  \n",
              "\n",
              "[118152 rows x 7 columns]"
            ],
            "text/html": [
              "\n",
              "  <div id=\"df-928bc10b-8cb1-4f31-b202-4fbd3bbd70df\">\n",
              "    <div class=\"colab-df-container\">\n",
              "      <div>\n",
              "<style scoped>\n",
              "    .dataframe tbody tr th:only-of-type {\n",
              "        vertical-align: middle;\n",
              "    }\n",
              "\n",
              "    .dataframe tbody tr th {\n",
              "        vertical-align: top;\n",
              "    }\n",
              "\n",
              "    .dataframe thead th {\n",
              "        text-align: right;\n",
              "    }\n",
              "</style>\n",
              "<table border=\"1\" class=\"dataframe\">\n",
              "  <thead>\n",
              "    <tr style=\"text-align: right;\">\n",
              "      <th></th>\n",
              "      <th>PRODUCT_ID</th>\n",
              "      <th>TITLE</th>\n",
              "      <th>BULLET_POINTS</th>\n",
              "      <th>DESCRIPTION</th>\n",
              "      <th>PRODUCT_TYPE_ID</th>\n",
              "      <th>PRODUCT_LENGTH</th>\n",
              "      <th>CATEGORY</th>\n",
              "    </tr>\n",
              "  </thead>\n",
              "  <tbody>\n",
              "    <tr>\n",
              "      <th>0</th>\n",
              "      <td>22</td>\n",
              "      <td>Quantum Mechanics, 2nd Edition (Special Indian...</td>\n",
              "      <td>NaN</td>\n",
              "      <td>NaN</td>\n",
              "      <td>6322</td>\n",
              "      <td>787.400000</td>\n",
              "      <td>5</td>\n",
              "    </tr>\n",
              "    <tr>\n",
              "      <th>1</th>\n",
              "      <td>27</td>\n",
              "      <td>The Lion, the Witch and the Wardrobe (The Chro...</td>\n",
              "      <td>NaN</td>\n",
              "      <td>NaN</td>\n",
              "      <td>42</td>\n",
              "      <td>417.322000</td>\n",
              "      <td>4</td>\n",
              "    </tr>\n",
              "    <tr>\n",
              "      <th>2</th>\n",
              "      <td>30</td>\n",
              "      <td>My Cousin Rachel</td>\n",
              "      <td>NaN</td>\n",
              "      <td>NaN</td>\n",
              "      <td>99</td>\n",
              "      <td>417.322000</td>\n",
              "      <td>4</td>\n",
              "    </tr>\n",
              "    <tr>\n",
              "      <th>3</th>\n",
              "      <td>33</td>\n",
              "      <td>Coriolanus</td>\n",
              "      <td>NaN</td>\n",
              "      <td>NaN</td>\n",
              "      <td>113</td>\n",
              "      <td>417.322000</td>\n",
              "      <td>4</td>\n",
              "    </tr>\n",
              "    <tr>\n",
              "      <th>4</th>\n",
              "      <td>37</td>\n",
              "      <td>The Crucible</td>\n",
              "      <td>NaN</td>\n",
              "      <td>NaN</td>\n",
              "      <td>113</td>\n",
              "      <td>417.322000</td>\n",
              "      <td>4</td>\n",
              "    </tr>\n",
              "    <tr>\n",
              "      <th>...</th>\n",
              "      <td>...</td>\n",
              "      <td>...</td>\n",
              "      <td>...</td>\n",
              "      <td>...</td>\n",
              "      <td>...</td>\n",
              "      <td>...</td>\n",
              "      <td>...</td>\n",
              "    </tr>\n",
              "    <tr>\n",
              "      <th>118147</th>\n",
              "      <td>2999928</td>\n",
              "      <td>Beat Top Model Car 9 inch Full Touch Screen An...</td>\n",
              "      <td>[2GB RAM/16GB ROM With 1 Year Warranty: Develo...</td>\n",
              "      <td>Product Version: Hi-Fi Version with Vertical o...</td>\n",
              "      <td>2108</td>\n",
              "      <td>984.251967</td>\n",
              "      <td>5</td>\n",
              "    </tr>\n",
              "    <tr>\n",
              "      <th>118148</th>\n",
              "      <td>2999930</td>\n",
              "      <td>Black Panther: 2018 (DVD)</td>\n",
              "      <td>DVD MOVIE</td>\n",
              "      <td>After his father's death, T'Challa returns hom...</td>\n",
              "      <td>3</td>\n",
              "      <td>1102.362204</td>\n",
              "      <td>6</td>\n",
              "    </tr>\n",
              "    <tr>\n",
              "      <th>118149</th>\n",
              "      <td>2999937</td>\n",
              "      <td>Customized Happy Anniversary Wooden Photo Fram...</td>\n",
              "      <td>[Photo Quantity: 4 Images Required,Dimension: ...</td>\n",
              "      <td>Express Your Love &amp; Feelings On Valentines, An...</td>\n",
              "      <td>12228</td>\n",
              "      <td>1259.842518</td>\n",
              "      <td>6</td>\n",
              "    </tr>\n",
              "    <tr>\n",
              "      <th>118150</th>\n",
              "      <td>2999946</td>\n",
              "      <td>LAKWAL Handcrafted Brass Golden Kamdhenu Cow w...</td>\n",
              "      <td>[Measures Length: 17 CM, Width:12 CM, Height:1...</td>\n",
              "      <td>Handcrafted Large Gold Elegant Kamdhenu Cow an...</td>\n",
              "      <td>5506</td>\n",
              "      <td>669.291338</td>\n",
              "      <td>5</td>\n",
              "    </tr>\n",
              "    <tr>\n",
              "      <th>118151</th>\n",
              "      <td>2999993</td>\n",
              "      <td>Roffatide Anime Cartoon Plush Doll Backpack Ka...</td>\n",
              "      <td>[Material: plush material.,Measurements: 10.6 ...</td>\n",
              "      <td>&lt;br&gt;&lt;br&gt;&lt;b&gt;You can search 'Anime' in our store...</td>\n",
              "      <td>3421</td>\n",
              "      <td>1062.992125</td>\n",
              "      <td>6</td>\n",
              "    </tr>\n",
              "  </tbody>\n",
              "</table>\n",
              "<p>118152 rows × 7 columns</p>\n",
              "</div>\n",
              "      <button class=\"colab-df-convert\" onclick=\"convertToInteractive('df-928bc10b-8cb1-4f31-b202-4fbd3bbd70df')\"\n",
              "              title=\"Convert this dataframe to an interactive table.\"\n",
              "              style=\"display:none;\">\n",
              "        \n",
              "  <svg xmlns=\"http://www.w3.org/2000/svg\" height=\"24px\"viewBox=\"0 0 24 24\"\n",
              "       width=\"24px\">\n",
              "    <path d=\"M0 0h24v24H0V0z\" fill=\"none\"/>\n",
              "    <path d=\"M18.56 5.44l.94 2.06.94-2.06 2.06-.94-2.06-.94-.94-2.06-.94 2.06-2.06.94zm-11 1L8.5 8.5l.94-2.06 2.06-.94-2.06-.94L8.5 2.5l-.94 2.06-2.06.94zm10 10l.94 2.06.94-2.06 2.06-.94-2.06-.94-.94-2.06-.94 2.06-2.06.94z\"/><path d=\"M17.41 7.96l-1.37-1.37c-.4-.4-.92-.59-1.43-.59-.52 0-1.04.2-1.43.59L10.3 9.45l-7.72 7.72c-.78.78-.78 2.05 0 2.83L4 21.41c.39.39.9.59 1.41.59.51 0 1.02-.2 1.41-.59l7.78-7.78 2.81-2.81c.8-.78.8-2.07 0-2.86zM5.41 20L4 18.59l7.72-7.72 1.47 1.35L5.41 20z\"/>\n",
              "  </svg>\n",
              "      </button>\n",
              "      \n",
              "  <style>\n",
              "    .colab-df-container {\n",
              "      display:flex;\n",
              "      flex-wrap:wrap;\n",
              "      gap: 12px;\n",
              "    }\n",
              "\n",
              "    .colab-df-convert {\n",
              "      background-color: #E8F0FE;\n",
              "      border: none;\n",
              "      border-radius: 50%;\n",
              "      cursor: pointer;\n",
              "      display: none;\n",
              "      fill: #1967D2;\n",
              "      height: 32px;\n",
              "      padding: 0 0 0 0;\n",
              "      width: 32px;\n",
              "    }\n",
              "\n",
              "    .colab-df-convert:hover {\n",
              "      background-color: #E2EBFA;\n",
              "      box-shadow: 0px 1px 2px rgba(60, 64, 67, 0.3), 0px 1px 3px 1px rgba(60, 64, 67, 0.15);\n",
              "      fill: #174EA6;\n",
              "    }\n",
              "\n",
              "    [theme=dark] .colab-df-convert {\n",
              "      background-color: #3B4455;\n",
              "      fill: #D2E3FC;\n",
              "    }\n",
              "\n",
              "    [theme=dark] .colab-df-convert:hover {\n",
              "      background-color: #434B5C;\n",
              "      box-shadow: 0px 1px 3px 1px rgba(0, 0, 0, 0.15);\n",
              "      filter: drop-shadow(0px 1px 2px rgba(0, 0, 0, 0.3));\n",
              "      fill: #FFFFFF;\n",
              "    }\n",
              "  </style>\n",
              "\n",
              "      <script>\n",
              "        const buttonEl =\n",
              "          document.querySelector('#df-928bc10b-8cb1-4f31-b202-4fbd3bbd70df button.colab-df-convert');\n",
              "        buttonEl.style.display =\n",
              "          google.colab.kernel.accessAllowed ? 'block' : 'none';\n",
              "\n",
              "        async function convertToInteractive(key) {\n",
              "          const element = document.querySelector('#df-928bc10b-8cb1-4f31-b202-4fbd3bbd70df');\n",
              "          const dataTable =\n",
              "            await google.colab.kernel.invokeFunction('convertToInteractive',\n",
              "                                                     [key], {});\n",
              "          if (!dataTable) return;\n",
              "\n",
              "          const docLinkHtml = 'Like what you see? Visit the ' +\n",
              "            '<a target=\"_blank\" href=https://colab.research.google.com/notebooks/data_table.ipynb>data table notebook</a>'\n",
              "            + ' to learn more about interactive tables.';\n",
              "          element.innerHTML = '';\n",
              "          dataTable['output_type'] = 'display_data';\n",
              "          await google.colab.output.renderOutput(dataTable, element);\n",
              "          const docLink = document.createElement('div');\n",
              "          docLink.innerHTML = docLinkHtml;\n",
              "          element.appendChild(docLink);\n",
              "        }\n",
              "      </script>\n",
              "    </div>\n",
              "  </div>\n",
              "  "
            ]
          },
          "metadata": {},
          "execution_count": 362
        }
      ]
    },
    {
      "cell_type": "markdown",
      "source": [
        "# Clean Data"
      ],
      "metadata": {
        "id": "zQo8cP1isLym"
      }
    },
    {
      "cell_type": "code",
      "source": [
        "import numpy as np\n",
        "import pandas as pd\n",
        "import nltk\n",
        "import re"
      ],
      "metadata": {
        "id": "lWO19DVDIcYW"
      },
      "execution_count": 363,
      "outputs": []
    },
    {
      "cell_type": "code",
      "source": [
        "nltk.download('stopwords')\n",
        "stop_words = stopwords.words('english')"
      ],
      "metadata": {
        "colab": {
          "base_uri": "https://localhost:8080/"
        },
        "id": "pgoatL2kIIYp",
        "outputId": "ada8e083-7254-4426-8f36-cc396906b314"
      },
      "execution_count": 364,
      "outputs": [
        {
          "output_type": "stream",
          "name": "stderr",
          "text": [
            "[nltk_data] Downloading package stopwords to /root/nltk_data...\n",
            "[nltk_data]   Package stopwords is already up-to-date!\n"
          ]
        }
      ]
    },
    {
      "cell_type": "code",
      "source": [
        "raw_data = raw_data.dropna(how='any')\n",
        "raw_data = shuffle(raw_data, random_state=42)"
      ],
      "metadata": {
        "id": "zSn4I6rhIMep"
      },
      "execution_count": 365,
      "outputs": []
    },
    {
      "cell_type": "code",
      "source": [
        "def remove_punctuation(text):\n",
        "    final = \"\".join(u for u in text if u not in (\"?\", \".\", \";\", \":\", \"!\", '\"', \"'\"))\n",
        "    return final"
      ],
      "metadata": {
        "id": "0PKHokDSDa3D"
      },
      "execution_count": 366,
      "outputs": []
    },
    {
      "cell_type": "code",
      "source": [
        "def preprocess_text(text):\n",
        "    text = re.sub(r'[^\\w\\s]', '', text)\n",
        "    text = text.lower()\n",
        "    text = \" \".join([word for word in text.split() if word not in stop_words])\n",
        "    return text"
      ],
      "metadata": {
        "id": "v5Wkvj3KH2JQ"
      },
      "execution_count": 367,
      "outputs": []
    },
    {
      "cell_type": "code",
      "source": [
        "texts = ['TITLE', 'BULLET_POINTS', 'DESCRIPTION']"
      ],
      "metadata": {
        "id": "vGzDpyVRREUl"
      },
      "execution_count": 368,
      "outputs": []
    },
    {
      "cell_type": "code",
      "source": [
        "for text in texts:\n",
        "  raw_data[text] = raw_data[text].astype(str)\n",
        "  raw_data[text] = raw_data[text].apply(remove_punctuation)\n",
        "  raw_data[text] = raw_data[text].apply(preprocess_text)\n",
        "  raw_data[text] = raw_data[text].apply(lambda x: ' '.join(x.split()))  # Remove extra whitespaces\n",
        "  raw_data[text] = raw_data[text].str.replace('\\d+', '')  # Remove digits\n",
        "  raw_data[text] = raw_data[text].str.replace('[^\\x00-\\x7F]+', '')  # Remove non-ASCII characters"
      ],
      "metadata": {
        "colab": {
          "base_uri": "https://localhost:8080/"
        },
        "id": "JbSHgnrhH42E",
        "outputId": "9d3132bc-d6c6-4d94-98c4-a400b23bc6fa"
      },
      "execution_count": 369,
      "outputs": [
        {
          "output_type": "stream",
          "name": "stderr",
          "text": [
            "<ipython-input-369-b1727534fe32>:6: FutureWarning: The default value of regex will change from True to False in a future version.\n",
            "  raw_data[text] = raw_data[text].str.replace('\\d+', '')  # Remove digits\n",
            "<ipython-input-369-b1727534fe32>:7: FutureWarning: The default value of regex will change from True to False in a future version.\n",
            "  raw_data[text] = raw_data[text].str.replace('[^\\x00-\\x7F]+', '')  # Remove non-ASCII characters\n"
          ]
        }
      ]
    },
    {
      "cell_type": "code",
      "source": [
        "raw_data"
      ],
      "metadata": {
        "colab": {
          "base_uri": "https://localhost:8080/",
          "height": 467
        },
        "id": "b_vMFpJaRUtQ",
        "outputId": "b5ddc605-1b2e-4d15-ba0c-b2b653a0109d"
      },
      "execution_count": 370,
      "outputs": [
        {
          "output_type": "execute_result",
          "data": {
            "text/plain": [
              "        PRODUCT_ID                                              TITLE  \\\n",
              "48838      1238161  brass glass nautical finder compass briton lon...   \n",
              "75892      1924942  micra powermat acupressure magnetic foot relie...   \n",
              "60222      1526668  xpand quick release roundlacing tie shoelaces ...   \n",
              "116558     2960925  renue lifestyle brass waste coupling wash basi...   \n",
              "74488      1889972  real rugs kids pets friendly bella woollen rug...   \n",
              "...            ...                                                ...   \n",
              "107187     2723116   stop fashion womens crape multicolor digital ...   \n",
              "118075     2998179  alstonia multi color premium digital print cus...   \n",
              "98916      2511436  bbq gloves heat resistant grilling gloves blac...   \n",
              "33149       845187                    cate bulk cable  awg blue solid   \n",
              "64313      1632550  twisted x womens inch toe embroidered western ...   \n",
              "\n",
              "                                            BULLET_POINTS  \\\n",
              "48838   brass made products made solid brass carefully...   \n",
              "75892   effective health cure right super india store ...   \n",
              "60222   simple comfortable never tie shoes turn shoe s...   \n",
              "116558  corrosion resistant material wash basin waster...   \n",
              "74488   exciting handmade rugs make statement contempo...   \n",
              "...                                                   ...   \n",
              "107187  material  american crepe th sleevesprint typed...   \n",
              "118075  low covers invisible zipper hidden zippers mak...   \n",
              "98916   premium triple material heatresistant gloves c...   \n",
              "33149                                            utp cate   \n",
              "64313   slip resistant outsole equipped molded rubber ...   \n",
              "\n",
              "                                              DESCRIPTION  PRODUCT_TYPE_ID  \\\n",
              "48838   brass glass nautical finder compass briton lon...             5506   \n",
              "75892   effective health cure right micra brings valua...             8453   \n",
              "60222   xpand quick release roundlacing system one kin...             3101   \n",
              "116558  pthe design detailing bathroom something bring...            10279   \n",
              "74488   pexperience stunning beauty charm rug collecti...             1636   \n",
              "...                                                   ...              ...   \n",
              "107187  crepe stitched size smlxlxxlxl fancy kurtis  s...             2916   \n",
              "118075  defined printed surface design cushion cover s...             7256   \n",
              "98916                                    bbq grill gloves             5651   \n",
              "33149                      cate bulk cable  awgblue solid                4   \n",
              "64313   work without worries inch western hiking boots...             2640   \n",
              "\n",
              "        PRODUCT_LENGTH  CATEGORY  \n",
              "48838       196.850393         3  \n",
              "75892      1181.102361         6  \n",
              "60222      5200.000000         8  \n",
              "116558      433.070866         4  \n",
              "74488      7200.000000         8  \n",
              "...                ...       ...  \n",
              "107187     1000.000000         5  \n",
              "118075     1574.803148         6  \n",
              "98916      1496.000000         6  \n",
              "33149       827.000000         5  \n",
              "64313      1500.000000         6  \n",
              "\n",
              "[54414 rows x 7 columns]"
            ],
            "text/html": [
              "\n",
              "  <div id=\"df-ed6e3149-1648-4190-ae3f-5f4cc690332a\">\n",
              "    <div class=\"colab-df-container\">\n",
              "      <div>\n",
              "<style scoped>\n",
              "    .dataframe tbody tr th:only-of-type {\n",
              "        vertical-align: middle;\n",
              "    }\n",
              "\n",
              "    .dataframe tbody tr th {\n",
              "        vertical-align: top;\n",
              "    }\n",
              "\n",
              "    .dataframe thead th {\n",
              "        text-align: right;\n",
              "    }\n",
              "</style>\n",
              "<table border=\"1\" class=\"dataframe\">\n",
              "  <thead>\n",
              "    <tr style=\"text-align: right;\">\n",
              "      <th></th>\n",
              "      <th>PRODUCT_ID</th>\n",
              "      <th>TITLE</th>\n",
              "      <th>BULLET_POINTS</th>\n",
              "      <th>DESCRIPTION</th>\n",
              "      <th>PRODUCT_TYPE_ID</th>\n",
              "      <th>PRODUCT_LENGTH</th>\n",
              "      <th>CATEGORY</th>\n",
              "    </tr>\n",
              "  </thead>\n",
              "  <tbody>\n",
              "    <tr>\n",
              "      <th>48838</th>\n",
              "      <td>1238161</td>\n",
              "      <td>brass glass nautical finder compass briton lon...</td>\n",
              "      <td>brass made products made solid brass carefully...</td>\n",
              "      <td>brass glass nautical finder compass briton lon...</td>\n",
              "      <td>5506</td>\n",
              "      <td>196.850393</td>\n",
              "      <td>3</td>\n",
              "    </tr>\n",
              "    <tr>\n",
              "      <th>75892</th>\n",
              "      <td>1924942</td>\n",
              "      <td>micra powermat acupressure magnetic foot relie...</td>\n",
              "      <td>effective health cure right super india store ...</td>\n",
              "      <td>effective health cure right micra brings valua...</td>\n",
              "      <td>8453</td>\n",
              "      <td>1181.102361</td>\n",
              "      <td>6</td>\n",
              "    </tr>\n",
              "    <tr>\n",
              "      <th>60222</th>\n",
              "      <td>1526668</td>\n",
              "      <td>xpand quick release roundlacing tie shoelaces ...</td>\n",
              "      <td>simple comfortable never tie shoes turn shoe s...</td>\n",
              "      <td>xpand quick release roundlacing system one kin...</td>\n",
              "      <td>3101</td>\n",
              "      <td>5200.000000</td>\n",
              "      <td>8</td>\n",
              "    </tr>\n",
              "    <tr>\n",
              "      <th>116558</th>\n",
              "      <td>2960925</td>\n",
              "      <td>renue lifestyle brass waste coupling wash basi...</td>\n",
              "      <td>corrosion resistant material wash basin waster...</td>\n",
              "      <td>pthe design detailing bathroom something bring...</td>\n",
              "      <td>10279</td>\n",
              "      <td>433.070866</td>\n",
              "      <td>4</td>\n",
              "    </tr>\n",
              "    <tr>\n",
              "      <th>74488</th>\n",
              "      <td>1889972</td>\n",
              "      <td>real rugs kids pets friendly bella woollen rug...</td>\n",
              "      <td>exciting handmade rugs make statement contempo...</td>\n",
              "      <td>pexperience stunning beauty charm rug collecti...</td>\n",
              "      <td>1636</td>\n",
              "      <td>7200.000000</td>\n",
              "      <td>8</td>\n",
              "    </tr>\n",
              "    <tr>\n",
              "      <th>...</th>\n",
              "      <td>...</td>\n",
              "      <td>...</td>\n",
              "      <td>...</td>\n",
              "      <td>...</td>\n",
              "      <td>...</td>\n",
              "      <td>...</td>\n",
              "      <td>...</td>\n",
              "    </tr>\n",
              "    <tr>\n",
              "      <th>107187</th>\n",
              "      <td>2723116</td>\n",
              "      <td>stop fashion womens crape multicolor digital ...</td>\n",
              "      <td>material  american crepe th sleevesprint typed...</td>\n",
              "      <td>crepe stitched size smlxlxxlxl fancy kurtis  s...</td>\n",
              "      <td>2916</td>\n",
              "      <td>1000.000000</td>\n",
              "      <td>5</td>\n",
              "    </tr>\n",
              "    <tr>\n",
              "      <th>118075</th>\n",
              "      <td>2998179</td>\n",
              "      <td>alstonia multi color premium digital print cus...</td>\n",
              "      <td>low covers invisible zipper hidden zippers mak...</td>\n",
              "      <td>defined printed surface design cushion cover s...</td>\n",
              "      <td>7256</td>\n",
              "      <td>1574.803148</td>\n",
              "      <td>6</td>\n",
              "    </tr>\n",
              "    <tr>\n",
              "      <th>98916</th>\n",
              "      <td>2511436</td>\n",
              "      <td>bbq gloves heat resistant grilling gloves blac...</td>\n",
              "      <td>premium triple material heatresistant gloves c...</td>\n",
              "      <td>bbq grill gloves</td>\n",
              "      <td>5651</td>\n",
              "      <td>1496.000000</td>\n",
              "      <td>6</td>\n",
              "    </tr>\n",
              "    <tr>\n",
              "      <th>33149</th>\n",
              "      <td>845187</td>\n",
              "      <td>cate bulk cable  awg blue solid</td>\n",
              "      <td>utp cate</td>\n",
              "      <td>cate bulk cable  awgblue solid</td>\n",
              "      <td>4</td>\n",
              "      <td>827.000000</td>\n",
              "      <td>5</td>\n",
              "    </tr>\n",
              "    <tr>\n",
              "      <th>64313</th>\n",
              "      <td>1632550</td>\n",
              "      <td>twisted x womens inch toe embroidered western ...</td>\n",
              "      <td>slip resistant outsole equipped molded rubber ...</td>\n",
              "      <td>work without worries inch western hiking boots...</td>\n",
              "      <td>2640</td>\n",
              "      <td>1500.000000</td>\n",
              "      <td>6</td>\n",
              "    </tr>\n",
              "  </tbody>\n",
              "</table>\n",
              "<p>54414 rows × 7 columns</p>\n",
              "</div>\n",
              "      <button class=\"colab-df-convert\" onclick=\"convertToInteractive('df-ed6e3149-1648-4190-ae3f-5f4cc690332a')\"\n",
              "              title=\"Convert this dataframe to an interactive table.\"\n",
              "              style=\"display:none;\">\n",
              "        \n",
              "  <svg xmlns=\"http://www.w3.org/2000/svg\" height=\"24px\"viewBox=\"0 0 24 24\"\n",
              "       width=\"24px\">\n",
              "    <path d=\"M0 0h24v24H0V0z\" fill=\"none\"/>\n",
              "    <path d=\"M18.56 5.44l.94 2.06.94-2.06 2.06-.94-2.06-.94-.94-2.06-.94 2.06-2.06.94zm-11 1L8.5 8.5l.94-2.06 2.06-.94-2.06-.94L8.5 2.5l-.94 2.06-2.06.94zm10 10l.94 2.06.94-2.06 2.06-.94-2.06-.94-.94-2.06-.94 2.06-2.06.94z\"/><path d=\"M17.41 7.96l-1.37-1.37c-.4-.4-.92-.59-1.43-.59-.52 0-1.04.2-1.43.59L10.3 9.45l-7.72 7.72c-.78.78-.78 2.05 0 2.83L4 21.41c.39.39.9.59 1.41.59.51 0 1.02-.2 1.41-.59l7.78-7.78 2.81-2.81c.8-.78.8-2.07 0-2.86zM5.41 20L4 18.59l7.72-7.72 1.47 1.35L5.41 20z\"/>\n",
              "  </svg>\n",
              "      </button>\n",
              "      \n",
              "  <style>\n",
              "    .colab-df-container {\n",
              "      display:flex;\n",
              "      flex-wrap:wrap;\n",
              "      gap: 12px;\n",
              "    }\n",
              "\n",
              "    .colab-df-convert {\n",
              "      background-color: #E8F0FE;\n",
              "      border: none;\n",
              "      border-radius: 50%;\n",
              "      cursor: pointer;\n",
              "      display: none;\n",
              "      fill: #1967D2;\n",
              "      height: 32px;\n",
              "      padding: 0 0 0 0;\n",
              "      width: 32px;\n",
              "    }\n",
              "\n",
              "    .colab-df-convert:hover {\n",
              "      background-color: #E2EBFA;\n",
              "      box-shadow: 0px 1px 2px rgba(60, 64, 67, 0.3), 0px 1px 3px 1px rgba(60, 64, 67, 0.15);\n",
              "      fill: #174EA6;\n",
              "    }\n",
              "\n",
              "    [theme=dark] .colab-df-convert {\n",
              "      background-color: #3B4455;\n",
              "      fill: #D2E3FC;\n",
              "    }\n",
              "\n",
              "    [theme=dark] .colab-df-convert:hover {\n",
              "      background-color: #434B5C;\n",
              "      box-shadow: 0px 1px 3px 1px rgba(0, 0, 0, 0.15);\n",
              "      filter: drop-shadow(0px 1px 2px rgba(0, 0, 0, 0.3));\n",
              "      fill: #FFFFFF;\n",
              "    }\n",
              "  </style>\n",
              "\n",
              "      <script>\n",
              "        const buttonEl =\n",
              "          document.querySelector('#df-ed6e3149-1648-4190-ae3f-5f4cc690332a button.colab-df-convert');\n",
              "        buttonEl.style.display =\n",
              "          google.colab.kernel.accessAllowed ? 'block' : 'none';\n",
              "\n",
              "        async function convertToInteractive(key) {\n",
              "          const element = document.querySelector('#df-ed6e3149-1648-4190-ae3f-5f4cc690332a');\n",
              "          const dataTable =\n",
              "            await google.colab.kernel.invokeFunction('convertToInteractive',\n",
              "                                                     [key], {});\n",
              "          if (!dataTable) return;\n",
              "\n",
              "          const docLinkHtml = 'Like what you see? Visit the ' +\n",
              "            '<a target=\"_blank\" href=https://colab.research.google.com/notebooks/data_table.ipynb>data table notebook</a>'\n",
              "            + ' to learn more about interactive tables.';\n",
              "          element.innerHTML = '';\n",
              "          dataTable['output_type'] = 'display_data';\n",
              "          await google.colab.output.renderOutput(dataTable, element);\n",
              "          const docLink = document.createElement('div');\n",
              "          docLink.innerHTML = docLinkHtml;\n",
              "          element.appendChild(docLink);\n",
              "        }\n",
              "      </script>\n",
              "    </div>\n",
              "  </div>\n",
              "  "
            ]
          },
          "metadata": {},
          "execution_count": 370
        }
      ]
    },
    {
      "cell_type": "markdown",
      "source": [
        "# MODEL 0 - NAIVE BAYES"
      ],
      "metadata": {
        "id": "tXo5LKl8FIui"
      }
    },
    {
      "cell_type": "code",
      "source": [
        "from sklearn.pipeline import Pipeline\n",
        "from sklearn.feature_extraction.text import TfidfVectorizer\n",
        "from sklearn.naive_bayes import MultinomialNB"
      ],
      "metadata": {
        "id": "D_sFSEL7FQAp"
      },
      "execution_count": 379,
      "outputs": []
    },
    {
      "cell_type": "code",
      "source": [
        "label_encoder = preprocessing.LabelEncoder()\n",
        "\n",
        "# Encode labels in column 'CATEGORY'.\n",
        "raw_data['CATEGORY']= label_encoder.fit_transform(raw_data['CATEGORY'])"
      ],
      "metadata": {
        "id": "QdlLcE-aKkAq"
      },
      "execution_count": 380,
      "outputs": []
    },
    {
      "cell_type": "code",
      "source": [
        "splitter = int(len(raw_data)*.8)\n",
        "train, test = raw_data[:splitter], raw_data[splitter:]"
      ],
      "metadata": {
        "id": "tj6rIGQ3SF_Z"
      },
      "execution_count": 381,
      "outputs": []
    },
    {
      "cell_type": "code",
      "source": [
        "texts = ['TITLE', 'BULLET_POINTS', 'DESCRIPTION']\n",
        "MODELS = dict()\n",
        "SRCS = dict()"
      ],
      "metadata": {
        "id": "FjSt8bk8KloL"
      },
      "execution_count": 382,
      "outputs": []
    },
    {
      "cell_type": "code",
      "source": [
        "for text in texts:\n",
        "  X_train, y_train = train[text], train['CATEGORY']\n",
        "  X_val, y_val = test[text], test['CATEGORY']\n",
        "  model = Pipeline([\n",
        "                    ('tfidf', TfidfVectorizer()),\n",
        "                    ('clf', MultinomialNB(alpha = 1))\n",
        "  ])\n",
        "  model.fit(X_train, y_train)\n",
        "  MODELS[text] = model\n",
        "  model_score = MODELS[text].score(X_val, y_val)\n",
        "  model_score * 100\n",
        "  SRCS[text] = MODELS[text].predict(X_val)"
      ],
      "metadata": {
        "id": "YrbEEviGSvwS"
      },
      "execution_count": 383,
      "outputs": []
    },
    {
      "cell_type": "code",
      "source": [
        "MODELS"
      ],
      "metadata": {
        "colab": {
          "base_uri": "https://localhost:8080/"
        },
        "id": "3Qit7NOlTfsD",
        "outputId": "da84f458-f4a5-41ed-b89d-f63d91ca5f37"
      },
      "execution_count": 388,
      "outputs": [
        {
          "output_type": "execute_result",
          "data": {
            "text/plain": [
              "{'TITLE': Pipeline(steps=[('tfidf', TfidfVectorizer()), ('clf', MultinomialNB(alpha=1))]),\n",
              " 'BULLET_POINTS': Pipeline(steps=[('tfidf', TfidfVectorizer()), ('clf', MultinomialNB(alpha=1))]),\n",
              " 'DESCRIPTION': Pipeline(steps=[('tfidf', TfidfVectorizer()), ('clf', MultinomialNB(alpha=1))])}"
            ]
          },
          "metadata": {},
          "execution_count": 388
        }
      ]
    },
    {
      "cell_type": "code",
      "source": [
        "SRCS"
      ],
      "metadata": {
        "colab": {
          "base_uri": "https://localhost:8080/"
        },
        "id": "ps7a05cXTt4L",
        "outputId": "c3601680-274b-4a4d-c83a-131232067e3b"
      },
      "execution_count": 389,
      "outputs": [
        {
          "output_type": "execute_result",
          "data": {
            "text/plain": [
              "{'TITLE': array([5, 5, 5, ..., 5, 5, 6]),\n",
              " 'BULLET_POINTS': array([5, 5, 5, ..., 5, 5, 5]),\n",
              " 'DESCRIPTION': array([5, 5, 5, ..., 5, 5, 5])}"
            ]
          },
          "metadata": {},
          "execution_count": 389
        }
      ]
    },
    {
      "cell_type": "code",
      "source": [],
      "metadata": {
        "id": "I40k43bdTvIy"
      },
      "execution_count": null,
      "outputs": []
    }
  ]
}