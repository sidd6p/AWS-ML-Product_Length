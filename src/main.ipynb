{
  "nbformat": 4,
  "nbformat_minor": 0,
  "metadata": {
    "colab": {
      "provenance": [],
      "collapsed_sections": [
        "YWb3ayNHFc3U",
        "zQo8cP1isLym",
        "tXo5LKl8FIui",
        "9T9NqHP8XkXe"
      ],
      "include_colab_link": true
    },
    "kernelspec": {
      "name": "python3",
      "display_name": "Python 3"
    },
    "language_info": {
      "name": "python"
    },
    "accelerator": "GPU",
    "gpuClass": "standard"
  },
  "cells": [
    {
      "cell_type": "markdown",
      "metadata": {
        "id": "view-in-github",
        "colab_type": "text"
      },
      "source": [
        "<a href=\"https://colab.research.google.com/github/sidd6p/AWS-ML-Product_Length/blob/main/src/main.ipynb\" target=\"_parent\"><img src=\"https://colab.research.google.com/assets/colab-badge.svg\" alt=\"Open In Colab\"/></a>"
      ]
    },
    {
      "cell_type": "markdown",
      "source": [
        "# Load Data"
      ],
      "metadata": {
        "id": "YWb3ayNHFc3U"
      }
    },
    {
      "cell_type": "code",
      "source": [
        "!pip install -U -q PyDrive\n",
        "\n",
        "from pydrive.auth import GoogleAuth\n",
        "from pydrive.drive import GoogleDrive\n",
        "from google.colab import auth\n",
        "from oauth2client.client import GoogleCredentials\n",
        "\n",
        "\n",
        "# Authenticate and create the PyDrive client.\n",
        "auth.authenticate_user()\n",
        "gauth = GoogleAuth()\n",
        "gauth.credentials = GoogleCredentials.get_application_default()\n",
        "drive = GoogleDrive(gauth)"
      ],
      "metadata": {
        "id": "2L4PoUOCmomg"
      },
      "execution_count": 4,
      "outputs": []
    },
    {
      "cell_type": "code",
      "source": [
        "link=\"https://drive.google.com/file/d/16ZHfZwv8VV2jGWRrJgfqalAOcDc7gTJH/view?usp=share_link\"\n",
        "import pandas as pd\n",
        "\n",
        "# to get the id part of the file\n",
        "id = link.split(\"/\")[-2]\n",
        "\n",
        "downloaded = drive.CreateFile({'id':id})\n",
        "downloaded.GetContentFile('train_this.csv')\n"
      ],
      "metadata": {
        "id": "RlIbUuyIxwS9"
      },
      "execution_count": 5,
      "outputs": []
    },
    {
      "cell_type": "code",
      "source": [
        "raw_data = pd.read_csv('train_this.csv')"
      ],
      "metadata": {
        "id": "iscRdaM3DIHx"
      },
      "execution_count": 6,
      "outputs": []
    },
    {
      "cell_type": "code",
      "source": [
        "raw_data"
      ],
      "metadata": {
        "colab": {
          "base_uri": "https://localhost:8080/",
          "height": 537
        },
        "id": "KHezl7K2Q7Ke",
        "outputId": "3025aeca-e64c-46a6-8f64-0d7c37b32e08"
      },
      "execution_count": 7,
      "outputs": [
        {
          "output_type": "execute_result",
          "data": {
            "text/plain": [
              "        PRODUCT_ID                                              TITLE  \\\n",
              "0               22  Quantum Mechanics, 2nd Edition (Special Indian...   \n",
              "1               27  The Lion, the Witch and the Wardrobe (The Chro...   \n",
              "2               30                                   My Cousin Rachel   \n",
              "3               33                                         Coriolanus   \n",
              "4               37                                       The Crucible   \n",
              "...            ...                                                ...   \n",
              "118147     2999928  Beat Top Model Car 9 inch Full Touch Screen An...   \n",
              "118148     2999930                          Black Panther: 2018 (DVD)   \n",
              "118149     2999937  Customized Happy Anniversary Wooden Photo Fram...   \n",
              "118150     2999946  LAKWAL Handcrafted Brass Golden Kamdhenu Cow w...   \n",
              "118151     2999993  Roffatide Anime Cartoon Plush Doll Backpack Ka...   \n",
              "\n",
              "                                            BULLET_POINTS  \\\n",
              "0                                                     NaN   \n",
              "1                                                     NaN   \n",
              "2                                                     NaN   \n",
              "3                                                     NaN   \n",
              "4                                                     NaN   \n",
              "...                                                   ...   \n",
              "118147  [2GB RAM/16GB ROM With 1 Year Warranty: Develo...   \n",
              "118148                                          DVD MOVIE   \n",
              "118149  [Photo Quantity: 4 Images Required,Dimension: ...   \n",
              "118150  [Measures Length: 17 CM, Width:12 CM, Height:1...   \n",
              "118151  [Material: plush material.,Measurements: 10.6 ...   \n",
              "\n",
              "                                              DESCRIPTION  PRODUCT_TYPE_ID  \\\n",
              "0                                                     NaN             6322   \n",
              "1                                                     NaN               42   \n",
              "2                                                     NaN               99   \n",
              "3                                                     NaN              113   \n",
              "4                                                     NaN              113   \n",
              "...                                                   ...              ...   \n",
              "118147  Product Version: Hi-Fi Version with Vertical o...             2108   \n",
              "118148  After his father's death, T'Challa returns hom...                3   \n",
              "118149  Express Your Love & Feelings On Valentines, An...            12228   \n",
              "118150  Handcrafted Large Gold Elegant Kamdhenu Cow an...             5506   \n",
              "118151  <br><br><b>You can search 'Anime' in our store...             3421   \n",
              "\n",
              "        PRODUCT_LENGTH  CATEGORY  \n",
              "0           787.400000         5  \n",
              "1           417.322000         4  \n",
              "2           417.322000         4  \n",
              "3           417.322000         4  \n",
              "4           417.322000         4  \n",
              "...                ...       ...  \n",
              "118147      984.251967         5  \n",
              "118148     1102.362204         6  \n",
              "118149     1259.842518         6  \n",
              "118150      669.291338         5  \n",
              "118151     1062.992125         6  \n",
              "\n",
              "[118152 rows x 7 columns]"
            ],
            "text/html": [
              "\n",
              "  <div id=\"df-22e528fa-9768-493c-896b-d6fab4276596\">\n",
              "    <div class=\"colab-df-container\">\n",
              "      <div>\n",
              "<style scoped>\n",
              "    .dataframe tbody tr th:only-of-type {\n",
              "        vertical-align: middle;\n",
              "    }\n",
              "\n",
              "    .dataframe tbody tr th {\n",
              "        vertical-align: top;\n",
              "    }\n",
              "\n",
              "    .dataframe thead th {\n",
              "        text-align: right;\n",
              "    }\n",
              "</style>\n",
              "<table border=\"1\" class=\"dataframe\">\n",
              "  <thead>\n",
              "    <tr style=\"text-align: right;\">\n",
              "      <th></th>\n",
              "      <th>PRODUCT_ID</th>\n",
              "      <th>TITLE</th>\n",
              "      <th>BULLET_POINTS</th>\n",
              "      <th>DESCRIPTION</th>\n",
              "      <th>PRODUCT_TYPE_ID</th>\n",
              "      <th>PRODUCT_LENGTH</th>\n",
              "      <th>CATEGORY</th>\n",
              "    </tr>\n",
              "  </thead>\n",
              "  <tbody>\n",
              "    <tr>\n",
              "      <th>0</th>\n",
              "      <td>22</td>\n",
              "      <td>Quantum Mechanics, 2nd Edition (Special Indian...</td>\n",
              "      <td>NaN</td>\n",
              "      <td>NaN</td>\n",
              "      <td>6322</td>\n",
              "      <td>787.400000</td>\n",
              "      <td>5</td>\n",
              "    </tr>\n",
              "    <tr>\n",
              "      <th>1</th>\n",
              "      <td>27</td>\n",
              "      <td>The Lion, the Witch and the Wardrobe (The Chro...</td>\n",
              "      <td>NaN</td>\n",
              "      <td>NaN</td>\n",
              "      <td>42</td>\n",
              "      <td>417.322000</td>\n",
              "      <td>4</td>\n",
              "    </tr>\n",
              "    <tr>\n",
              "      <th>2</th>\n",
              "      <td>30</td>\n",
              "      <td>My Cousin Rachel</td>\n",
              "      <td>NaN</td>\n",
              "      <td>NaN</td>\n",
              "      <td>99</td>\n",
              "      <td>417.322000</td>\n",
              "      <td>4</td>\n",
              "    </tr>\n",
              "    <tr>\n",
              "      <th>3</th>\n",
              "      <td>33</td>\n",
              "      <td>Coriolanus</td>\n",
              "      <td>NaN</td>\n",
              "      <td>NaN</td>\n",
              "      <td>113</td>\n",
              "      <td>417.322000</td>\n",
              "      <td>4</td>\n",
              "    </tr>\n",
              "    <tr>\n",
              "      <th>4</th>\n",
              "      <td>37</td>\n",
              "      <td>The Crucible</td>\n",
              "      <td>NaN</td>\n",
              "      <td>NaN</td>\n",
              "      <td>113</td>\n",
              "      <td>417.322000</td>\n",
              "      <td>4</td>\n",
              "    </tr>\n",
              "    <tr>\n",
              "      <th>...</th>\n",
              "      <td>...</td>\n",
              "      <td>...</td>\n",
              "      <td>...</td>\n",
              "      <td>...</td>\n",
              "      <td>...</td>\n",
              "      <td>...</td>\n",
              "      <td>...</td>\n",
              "    </tr>\n",
              "    <tr>\n",
              "      <th>118147</th>\n",
              "      <td>2999928</td>\n",
              "      <td>Beat Top Model Car 9 inch Full Touch Screen An...</td>\n",
              "      <td>[2GB RAM/16GB ROM With 1 Year Warranty: Develo...</td>\n",
              "      <td>Product Version: Hi-Fi Version with Vertical o...</td>\n",
              "      <td>2108</td>\n",
              "      <td>984.251967</td>\n",
              "      <td>5</td>\n",
              "    </tr>\n",
              "    <tr>\n",
              "      <th>118148</th>\n",
              "      <td>2999930</td>\n",
              "      <td>Black Panther: 2018 (DVD)</td>\n",
              "      <td>DVD MOVIE</td>\n",
              "      <td>After his father's death, T'Challa returns hom...</td>\n",
              "      <td>3</td>\n",
              "      <td>1102.362204</td>\n",
              "      <td>6</td>\n",
              "    </tr>\n",
              "    <tr>\n",
              "      <th>118149</th>\n",
              "      <td>2999937</td>\n",
              "      <td>Customized Happy Anniversary Wooden Photo Fram...</td>\n",
              "      <td>[Photo Quantity: 4 Images Required,Dimension: ...</td>\n",
              "      <td>Express Your Love &amp; Feelings On Valentines, An...</td>\n",
              "      <td>12228</td>\n",
              "      <td>1259.842518</td>\n",
              "      <td>6</td>\n",
              "    </tr>\n",
              "    <tr>\n",
              "      <th>118150</th>\n",
              "      <td>2999946</td>\n",
              "      <td>LAKWAL Handcrafted Brass Golden Kamdhenu Cow w...</td>\n",
              "      <td>[Measures Length: 17 CM, Width:12 CM, Height:1...</td>\n",
              "      <td>Handcrafted Large Gold Elegant Kamdhenu Cow an...</td>\n",
              "      <td>5506</td>\n",
              "      <td>669.291338</td>\n",
              "      <td>5</td>\n",
              "    </tr>\n",
              "    <tr>\n",
              "      <th>118151</th>\n",
              "      <td>2999993</td>\n",
              "      <td>Roffatide Anime Cartoon Plush Doll Backpack Ka...</td>\n",
              "      <td>[Material: plush material.,Measurements: 10.6 ...</td>\n",
              "      <td>&lt;br&gt;&lt;br&gt;&lt;b&gt;You can search 'Anime' in our store...</td>\n",
              "      <td>3421</td>\n",
              "      <td>1062.992125</td>\n",
              "      <td>6</td>\n",
              "    </tr>\n",
              "  </tbody>\n",
              "</table>\n",
              "<p>118152 rows × 7 columns</p>\n",
              "</div>\n",
              "      <button class=\"colab-df-convert\" onclick=\"convertToInteractive('df-22e528fa-9768-493c-896b-d6fab4276596')\"\n",
              "              title=\"Convert this dataframe to an interactive table.\"\n",
              "              style=\"display:none;\">\n",
              "        \n",
              "  <svg xmlns=\"http://www.w3.org/2000/svg\" height=\"24px\"viewBox=\"0 0 24 24\"\n",
              "       width=\"24px\">\n",
              "    <path d=\"M0 0h24v24H0V0z\" fill=\"none\"/>\n",
              "    <path d=\"M18.56 5.44l.94 2.06.94-2.06 2.06-.94-2.06-.94-.94-2.06-.94 2.06-2.06.94zm-11 1L8.5 8.5l.94-2.06 2.06-.94-2.06-.94L8.5 2.5l-.94 2.06-2.06.94zm10 10l.94 2.06.94-2.06 2.06-.94-2.06-.94-.94-2.06-.94 2.06-2.06.94z\"/><path d=\"M17.41 7.96l-1.37-1.37c-.4-.4-.92-.59-1.43-.59-.52 0-1.04.2-1.43.59L10.3 9.45l-7.72 7.72c-.78.78-.78 2.05 0 2.83L4 21.41c.39.39.9.59 1.41.59.51 0 1.02-.2 1.41-.59l7.78-7.78 2.81-2.81c.8-.78.8-2.07 0-2.86zM5.41 20L4 18.59l7.72-7.72 1.47 1.35L5.41 20z\"/>\n",
              "  </svg>\n",
              "      </button>\n",
              "      \n",
              "  <style>\n",
              "    .colab-df-container {\n",
              "      display:flex;\n",
              "      flex-wrap:wrap;\n",
              "      gap: 12px;\n",
              "    }\n",
              "\n",
              "    .colab-df-convert {\n",
              "      background-color: #E8F0FE;\n",
              "      border: none;\n",
              "      border-radius: 50%;\n",
              "      cursor: pointer;\n",
              "      display: none;\n",
              "      fill: #1967D2;\n",
              "      height: 32px;\n",
              "      padding: 0 0 0 0;\n",
              "      width: 32px;\n",
              "    }\n",
              "\n",
              "    .colab-df-convert:hover {\n",
              "      background-color: #E2EBFA;\n",
              "      box-shadow: 0px 1px 2px rgba(60, 64, 67, 0.3), 0px 1px 3px 1px rgba(60, 64, 67, 0.15);\n",
              "      fill: #174EA6;\n",
              "    }\n",
              "\n",
              "    [theme=dark] .colab-df-convert {\n",
              "      background-color: #3B4455;\n",
              "      fill: #D2E3FC;\n",
              "    }\n",
              "\n",
              "    [theme=dark] .colab-df-convert:hover {\n",
              "      background-color: #434B5C;\n",
              "      box-shadow: 0px 1px 3px 1px rgba(0, 0, 0, 0.15);\n",
              "      filter: drop-shadow(0px 1px 2px rgba(0, 0, 0, 0.3));\n",
              "      fill: #FFFFFF;\n",
              "    }\n",
              "  </style>\n",
              "\n",
              "      <script>\n",
              "        const buttonEl =\n",
              "          document.querySelector('#df-22e528fa-9768-493c-896b-d6fab4276596 button.colab-df-convert');\n",
              "        buttonEl.style.display =\n",
              "          google.colab.kernel.accessAllowed ? 'block' : 'none';\n",
              "\n",
              "        async function convertToInteractive(key) {\n",
              "          const element = document.querySelector('#df-22e528fa-9768-493c-896b-d6fab4276596');\n",
              "          const dataTable =\n",
              "            await google.colab.kernel.invokeFunction('convertToInteractive',\n",
              "                                                     [key], {});\n",
              "          if (!dataTable) return;\n",
              "\n",
              "          const docLinkHtml = 'Like what you see? Visit the ' +\n",
              "            '<a target=\"_blank\" href=https://colab.research.google.com/notebooks/data_table.ipynb>data table notebook</a>'\n",
              "            + ' to learn more about interactive tables.';\n",
              "          element.innerHTML = '';\n",
              "          dataTable['output_type'] = 'display_data';\n",
              "          await google.colab.output.renderOutput(dataTable, element);\n",
              "          const docLink = document.createElement('div');\n",
              "          docLink.innerHTML = docLinkHtml;\n",
              "          element.appendChild(docLink);\n",
              "        }\n",
              "      </script>\n",
              "    </div>\n",
              "  </div>\n",
              "  "
            ]
          },
          "metadata": {},
          "execution_count": 7
        }
      ]
    },
    {
      "cell_type": "code",
      "source": [
        "texts = ['TITLE', 'BULLET_POINTS', 'DESCRIPTION']"
      ],
      "metadata": {
        "id": "yMUg3ruVdkho"
      },
      "execution_count": 24,
      "outputs": []
    },
    {
      "cell_type": "markdown",
      "source": [
        "# Clean Data"
      ],
      "metadata": {
        "id": "zQo8cP1isLym"
      }
    },
    {
      "cell_type": "code",
      "source": [
        "import numpy as np\n",
        "import pandas as pd\n",
        "import nltk\n",
        "import re\n",
        "\n",
        "from sklearn import preprocessing\n",
        "from nltk.corpus import stopwords"
      ],
      "metadata": {
        "id": "lWO19DVDIcYW"
      },
      "execution_count": 16,
      "outputs": []
    },
    {
      "cell_type": "code",
      "source": [
        "nltk.download('stopwords')\n",
        "stop_words = stopwords.words('english')"
      ],
      "metadata": {
        "colab": {
          "base_uri": "https://localhost:8080/"
        },
        "id": "pgoatL2kIIYp",
        "outputId": "c4ff0932-560a-4d4d-d556-02e75bb2399b"
      },
      "execution_count": 14,
      "outputs": [
        {
          "output_type": "stream",
          "name": "stderr",
          "text": [
            "[nltk_data] Downloading package stopwords to /root/nltk_data...\n",
            "[nltk_data]   Package stopwords is already up-to-date!\n"
          ]
        }
      ]
    },
    {
      "cell_type": "code",
      "source": [
        "raw_data = raw_data.dropna(how='any')\n",
        "raw_data = raw_data.sample(frac=1, random_state=42)"
      ],
      "metadata": {
        "id": "zSn4I6rhIMep"
      },
      "execution_count": 19,
      "outputs": []
    },
    {
      "cell_type": "code",
      "source": [
        "def remove_punctuation(text):\n",
        "    final = \"\".join(u for u in text if u not in (\"?\", \".\", \";\", \":\", \"!\", '\"', \"'\"))\n",
        "    return final"
      ],
      "metadata": {
        "id": "0PKHokDSDa3D"
      },
      "execution_count": 20,
      "outputs": []
    },
    {
      "cell_type": "code",
      "source": [
        "def preprocess_text(text):\n",
        "    text = re.sub(r'[^\\w\\s]', '', text)\n",
        "    text = text.lower()\n",
        "    text = \" \".join([word for word in text.split() if word not in stop_words])\n",
        "    return text"
      ],
      "metadata": {
        "id": "v5Wkvj3KH2JQ"
      },
      "execution_count": 21,
      "outputs": []
    },
    {
      "cell_type": "code",
      "source": [
        "for text in texts:\n",
        "  raw_data[text] = raw_data[text].astype(str)\n",
        "  raw_data[text] = raw_data[text].apply(remove_punctuation)\n",
        "  raw_data[text] = raw_data[text].apply(preprocess_text)\n",
        "  raw_data[text] = raw_data[text].apply(lambda x: ' '.join(x.split()))  # Remove extra whitespaces\n",
        "  raw_data[text] = raw_data[text].str.replace('\\d+', '')  # Remove digits\n",
        "  raw_data[text] = raw_data[text].str.replace('[^\\x00-\\x7F]+', '')  # Remove non-ASCII characters"
      ],
      "metadata": {
        "colab": {
          "base_uri": "https://localhost:8080/"
        },
        "id": "JbSHgnrhH42E",
        "outputId": "c22de6d5-65f7-46d5-d1eb-2c3e61fca97c"
      },
      "execution_count": 23,
      "outputs": [
        {
          "output_type": "stream",
          "name": "stderr",
          "text": [
            "<ipython-input-23-b1727534fe32>:6: FutureWarning: The default value of regex will change from True to False in a future version.\n",
            "  raw_data[text] = raw_data[text].str.replace('\\d+', '')  # Remove digits\n",
            "<ipython-input-23-b1727534fe32>:7: FutureWarning: The default value of regex will change from True to False in a future version.\n",
            "  raw_data[text] = raw_data[text].str.replace('[^\\x00-\\x7F]+', '')  # Remove non-ASCII characters\n"
          ]
        }
      ]
    },
    {
      "cell_type": "code",
      "source": [
        "raw_data"
      ],
      "metadata": {
        "colab": {
          "base_uri": "https://localhost:8080/",
          "height": 467
        },
        "id": "b_vMFpJaRUtQ",
        "outputId": "c71eb379-a108-4b10-af70-b450a85292d8"
      },
      "execution_count": 25,
      "outputs": [
        {
          "output_type": "execute_result",
          "data": {
            "text/plain": [
              "        PRODUCT_ID                                              TITLE  \\\n",
              "48838      1238161  brass glass nautical finder compass briton lon...   \n",
              "75892      1924942  micra powermat acupressure magnetic foot relie...   \n",
              "60222      1526668  xpand quick release roundlacing tie shoelaces ...   \n",
              "116558     2960925  renue lifestyle brass waste coupling wash basi...   \n",
              "74488      1889972  real rugs kids pets friendly bella woollen rug...   \n",
              "...            ...                                                ...   \n",
              "107187     2723116   stop fashion womens crape multicolor digital ...   \n",
              "118075     2998179  alstonia multi color premium digital print cus...   \n",
              "98916      2511436  bbq gloves heat resistant grilling gloves blac...   \n",
              "33149       845187                    cate bulk cable  awg blue solid   \n",
              "64313      1632550  twisted x womens inch toe embroidered western ...   \n",
              "\n",
              "                                            BULLET_POINTS  \\\n",
              "48838   brass made products made solid brass carefully...   \n",
              "75892   effective health cure right super india store ...   \n",
              "60222   simple comfortable never tie shoes turn shoe s...   \n",
              "116558  corrosion resistant material wash basin waster...   \n",
              "74488   exciting handmade rugs make statement contempo...   \n",
              "...                                                   ...   \n",
              "107187  material  american crepe th sleevesprint typed...   \n",
              "118075  low covers invisible zipper hidden zippers mak...   \n",
              "98916   premium triple material heatresistant gloves c...   \n",
              "33149                                            utp cate   \n",
              "64313   slip resistant outsole equipped molded rubber ...   \n",
              "\n",
              "                                              DESCRIPTION  PRODUCT_TYPE_ID  \\\n",
              "48838   brass glass nautical finder compass briton lon...             5506   \n",
              "75892   effective health cure right micra brings valua...             8453   \n",
              "60222   xpand quick release roundlacing system one kin...             3101   \n",
              "116558  pthe design detailing bathroom something bring...            10279   \n",
              "74488   pexperience stunning beauty charm rug collecti...             1636   \n",
              "...                                                   ...              ...   \n",
              "107187  crepe stitched size smlxlxxlxl fancy kurtis  s...             2916   \n",
              "118075  defined printed surface design cushion cover s...             7256   \n",
              "98916                                    bbq grill gloves             5651   \n",
              "33149                      cate bulk cable  awgblue solid                4   \n",
              "64313   work without worries inch western hiking boots...             2640   \n",
              "\n",
              "        PRODUCT_LENGTH  CATEGORY  \n",
              "48838       196.850393         3  \n",
              "75892      1181.102361         6  \n",
              "60222      5200.000000         8  \n",
              "116558      433.070866         4  \n",
              "74488      7200.000000         8  \n",
              "...                ...       ...  \n",
              "107187     1000.000000         5  \n",
              "118075     1574.803148         6  \n",
              "98916      1496.000000         6  \n",
              "33149       827.000000         5  \n",
              "64313      1500.000000         6  \n",
              "\n",
              "[54414 rows x 7 columns]"
            ],
            "text/html": [
              "\n",
              "  <div id=\"df-04327678-e9e5-4949-953a-ce6cfe519559\">\n",
              "    <div class=\"colab-df-container\">\n",
              "      <div>\n",
              "<style scoped>\n",
              "    .dataframe tbody tr th:only-of-type {\n",
              "        vertical-align: middle;\n",
              "    }\n",
              "\n",
              "    .dataframe tbody tr th {\n",
              "        vertical-align: top;\n",
              "    }\n",
              "\n",
              "    .dataframe thead th {\n",
              "        text-align: right;\n",
              "    }\n",
              "</style>\n",
              "<table border=\"1\" class=\"dataframe\">\n",
              "  <thead>\n",
              "    <tr style=\"text-align: right;\">\n",
              "      <th></th>\n",
              "      <th>PRODUCT_ID</th>\n",
              "      <th>TITLE</th>\n",
              "      <th>BULLET_POINTS</th>\n",
              "      <th>DESCRIPTION</th>\n",
              "      <th>PRODUCT_TYPE_ID</th>\n",
              "      <th>PRODUCT_LENGTH</th>\n",
              "      <th>CATEGORY</th>\n",
              "    </tr>\n",
              "  </thead>\n",
              "  <tbody>\n",
              "    <tr>\n",
              "      <th>48838</th>\n",
              "      <td>1238161</td>\n",
              "      <td>brass glass nautical finder compass briton lon...</td>\n",
              "      <td>brass made products made solid brass carefully...</td>\n",
              "      <td>brass glass nautical finder compass briton lon...</td>\n",
              "      <td>5506</td>\n",
              "      <td>196.850393</td>\n",
              "      <td>3</td>\n",
              "    </tr>\n",
              "    <tr>\n",
              "      <th>75892</th>\n",
              "      <td>1924942</td>\n",
              "      <td>micra powermat acupressure magnetic foot relie...</td>\n",
              "      <td>effective health cure right super india store ...</td>\n",
              "      <td>effective health cure right micra brings valua...</td>\n",
              "      <td>8453</td>\n",
              "      <td>1181.102361</td>\n",
              "      <td>6</td>\n",
              "    </tr>\n",
              "    <tr>\n",
              "      <th>60222</th>\n",
              "      <td>1526668</td>\n",
              "      <td>xpand quick release roundlacing tie shoelaces ...</td>\n",
              "      <td>simple comfortable never tie shoes turn shoe s...</td>\n",
              "      <td>xpand quick release roundlacing system one kin...</td>\n",
              "      <td>3101</td>\n",
              "      <td>5200.000000</td>\n",
              "      <td>8</td>\n",
              "    </tr>\n",
              "    <tr>\n",
              "      <th>116558</th>\n",
              "      <td>2960925</td>\n",
              "      <td>renue lifestyle brass waste coupling wash basi...</td>\n",
              "      <td>corrosion resistant material wash basin waster...</td>\n",
              "      <td>pthe design detailing bathroom something bring...</td>\n",
              "      <td>10279</td>\n",
              "      <td>433.070866</td>\n",
              "      <td>4</td>\n",
              "    </tr>\n",
              "    <tr>\n",
              "      <th>74488</th>\n",
              "      <td>1889972</td>\n",
              "      <td>real rugs kids pets friendly bella woollen rug...</td>\n",
              "      <td>exciting handmade rugs make statement contempo...</td>\n",
              "      <td>pexperience stunning beauty charm rug collecti...</td>\n",
              "      <td>1636</td>\n",
              "      <td>7200.000000</td>\n",
              "      <td>8</td>\n",
              "    </tr>\n",
              "    <tr>\n",
              "      <th>...</th>\n",
              "      <td>...</td>\n",
              "      <td>...</td>\n",
              "      <td>...</td>\n",
              "      <td>...</td>\n",
              "      <td>...</td>\n",
              "      <td>...</td>\n",
              "      <td>...</td>\n",
              "    </tr>\n",
              "    <tr>\n",
              "      <th>107187</th>\n",
              "      <td>2723116</td>\n",
              "      <td>stop fashion womens crape multicolor digital ...</td>\n",
              "      <td>material  american crepe th sleevesprint typed...</td>\n",
              "      <td>crepe stitched size smlxlxxlxl fancy kurtis  s...</td>\n",
              "      <td>2916</td>\n",
              "      <td>1000.000000</td>\n",
              "      <td>5</td>\n",
              "    </tr>\n",
              "    <tr>\n",
              "      <th>118075</th>\n",
              "      <td>2998179</td>\n",
              "      <td>alstonia multi color premium digital print cus...</td>\n",
              "      <td>low covers invisible zipper hidden zippers mak...</td>\n",
              "      <td>defined printed surface design cushion cover s...</td>\n",
              "      <td>7256</td>\n",
              "      <td>1574.803148</td>\n",
              "      <td>6</td>\n",
              "    </tr>\n",
              "    <tr>\n",
              "      <th>98916</th>\n",
              "      <td>2511436</td>\n",
              "      <td>bbq gloves heat resistant grilling gloves blac...</td>\n",
              "      <td>premium triple material heatresistant gloves c...</td>\n",
              "      <td>bbq grill gloves</td>\n",
              "      <td>5651</td>\n",
              "      <td>1496.000000</td>\n",
              "      <td>6</td>\n",
              "    </tr>\n",
              "    <tr>\n",
              "      <th>33149</th>\n",
              "      <td>845187</td>\n",
              "      <td>cate bulk cable  awg blue solid</td>\n",
              "      <td>utp cate</td>\n",
              "      <td>cate bulk cable  awgblue solid</td>\n",
              "      <td>4</td>\n",
              "      <td>827.000000</td>\n",
              "      <td>5</td>\n",
              "    </tr>\n",
              "    <tr>\n",
              "      <th>64313</th>\n",
              "      <td>1632550</td>\n",
              "      <td>twisted x womens inch toe embroidered western ...</td>\n",
              "      <td>slip resistant outsole equipped molded rubber ...</td>\n",
              "      <td>work without worries inch western hiking boots...</td>\n",
              "      <td>2640</td>\n",
              "      <td>1500.000000</td>\n",
              "      <td>6</td>\n",
              "    </tr>\n",
              "  </tbody>\n",
              "</table>\n",
              "<p>54414 rows × 7 columns</p>\n",
              "</div>\n",
              "      <button class=\"colab-df-convert\" onclick=\"convertToInteractive('df-04327678-e9e5-4949-953a-ce6cfe519559')\"\n",
              "              title=\"Convert this dataframe to an interactive table.\"\n",
              "              style=\"display:none;\">\n",
              "        \n",
              "  <svg xmlns=\"http://www.w3.org/2000/svg\" height=\"24px\"viewBox=\"0 0 24 24\"\n",
              "       width=\"24px\">\n",
              "    <path d=\"M0 0h24v24H0V0z\" fill=\"none\"/>\n",
              "    <path d=\"M18.56 5.44l.94 2.06.94-2.06 2.06-.94-2.06-.94-.94-2.06-.94 2.06-2.06.94zm-11 1L8.5 8.5l.94-2.06 2.06-.94-2.06-.94L8.5 2.5l-.94 2.06-2.06.94zm10 10l.94 2.06.94-2.06 2.06-.94-2.06-.94-.94-2.06-.94 2.06-2.06.94z\"/><path d=\"M17.41 7.96l-1.37-1.37c-.4-.4-.92-.59-1.43-.59-.52 0-1.04.2-1.43.59L10.3 9.45l-7.72 7.72c-.78.78-.78 2.05 0 2.83L4 21.41c.39.39.9.59 1.41.59.51 0 1.02-.2 1.41-.59l7.78-7.78 2.81-2.81c.8-.78.8-2.07 0-2.86zM5.41 20L4 18.59l7.72-7.72 1.47 1.35L5.41 20z\"/>\n",
              "  </svg>\n",
              "      </button>\n",
              "      \n",
              "  <style>\n",
              "    .colab-df-container {\n",
              "      display:flex;\n",
              "      flex-wrap:wrap;\n",
              "      gap: 12px;\n",
              "    }\n",
              "\n",
              "    .colab-df-convert {\n",
              "      background-color: #E8F0FE;\n",
              "      border: none;\n",
              "      border-radius: 50%;\n",
              "      cursor: pointer;\n",
              "      display: none;\n",
              "      fill: #1967D2;\n",
              "      height: 32px;\n",
              "      padding: 0 0 0 0;\n",
              "      width: 32px;\n",
              "    }\n",
              "\n",
              "    .colab-df-convert:hover {\n",
              "      background-color: #E2EBFA;\n",
              "      box-shadow: 0px 1px 2px rgba(60, 64, 67, 0.3), 0px 1px 3px 1px rgba(60, 64, 67, 0.15);\n",
              "      fill: #174EA6;\n",
              "    }\n",
              "\n",
              "    [theme=dark] .colab-df-convert {\n",
              "      background-color: #3B4455;\n",
              "      fill: #D2E3FC;\n",
              "    }\n",
              "\n",
              "    [theme=dark] .colab-df-convert:hover {\n",
              "      background-color: #434B5C;\n",
              "      box-shadow: 0px 1px 3px 1px rgba(0, 0, 0, 0.15);\n",
              "      filter: drop-shadow(0px 1px 2px rgba(0, 0, 0, 0.3));\n",
              "      fill: #FFFFFF;\n",
              "    }\n",
              "  </style>\n",
              "\n",
              "      <script>\n",
              "        const buttonEl =\n",
              "          document.querySelector('#df-04327678-e9e5-4949-953a-ce6cfe519559 button.colab-df-convert');\n",
              "        buttonEl.style.display =\n",
              "          google.colab.kernel.accessAllowed ? 'block' : 'none';\n",
              "\n",
              "        async function convertToInteractive(key) {\n",
              "          const element = document.querySelector('#df-04327678-e9e5-4949-953a-ce6cfe519559');\n",
              "          const dataTable =\n",
              "            await google.colab.kernel.invokeFunction('convertToInteractive',\n",
              "                                                     [key], {});\n",
              "          if (!dataTable) return;\n",
              "\n",
              "          const docLinkHtml = 'Like what you see? Visit the ' +\n",
              "            '<a target=\"_blank\" href=https://colab.research.google.com/notebooks/data_table.ipynb>data table notebook</a>'\n",
              "            + ' to learn more about interactive tables.';\n",
              "          element.innerHTML = '';\n",
              "          dataTable['output_type'] = 'display_data';\n",
              "          await google.colab.output.renderOutput(dataTable, element);\n",
              "          const docLink = document.createElement('div');\n",
              "          docLink.innerHTML = docLinkHtml;\n",
              "          element.appendChild(docLink);\n",
              "        }\n",
              "      </script>\n",
              "    </div>\n",
              "  </div>\n",
              "  "
            ]
          },
          "metadata": {},
          "execution_count": 25
        }
      ]
    },
    {
      "cell_type": "markdown",
      "source": [
        "# MODEL 0 - NAIVE BAYES"
      ],
      "metadata": {
        "id": "tXo5LKl8FIui"
      }
    },
    {
      "cell_type": "code",
      "source": [
        "from sklearn.pipeline import Pipeline\n",
        "from sklearn.feature_extraction.text import TfidfVectorizer\n",
        "from sklearn.naive_bayes import MultinomialNB"
      ],
      "metadata": {
        "id": "D_sFSEL7FQAp"
      },
      "execution_count": 26,
      "outputs": []
    },
    {
      "cell_type": "code",
      "source": [
        "label_encoder = preprocessing.LabelEncoder()\n",
        "\n",
        "# Encode labels in column 'CATEGORY'.\n",
        "raw_data['CATEGORY']= label_encoder.fit_transform(raw_data['CATEGORY'])"
      ],
      "metadata": {
        "id": "QdlLcE-aKkAq"
      },
      "execution_count": 27,
      "outputs": []
    },
    {
      "cell_type": "code",
      "source": [
        "splitter = int(len(raw_data)*.8)\n",
        "train, test = raw_data[:splitter], raw_data[splitter:]"
      ],
      "metadata": {
        "id": "tj6rIGQ3SF_Z"
      },
      "execution_count": 28,
      "outputs": []
    },
    {
      "cell_type": "code",
      "source": [
        "MODELS = dict()\n",
        "SCRS = dict()"
      ],
      "metadata": {
        "id": "FjSt8bk8KloL"
      },
      "execution_count": 32,
      "outputs": []
    },
    {
      "cell_type": "code",
      "source": [
        "for text in texts:\n",
        "  X_train, y_train = train[text], train['CATEGORY']\n",
        "  X_val, y_val = test[text], test['CATEGORY']\n",
        "  model = Pipeline([\n",
        "                    ('tfidf', TfidfVectorizer()),\n",
        "                    ('clf', MultinomialNB(alpha = 1))\n",
        "  ])\n",
        "  model.fit(X_train, y_train)\n",
        "  MODELS[text] = model\n",
        "  model_score = MODELS[text].score(X_val, y_val)\n",
        "  model_score * 100\n",
        "  SCRS[text] = MODELS[text].predict(X_val)"
      ],
      "metadata": {
        "id": "YrbEEviGSvwS"
      },
      "execution_count": 33,
      "outputs": []
    },
    {
      "cell_type": "code",
      "source": [
        "MODELS"
      ],
      "metadata": {
        "colab": {
          "base_uri": "https://localhost:8080/"
        },
        "id": "3Qit7NOlTfsD",
        "outputId": "969b44b7-04d6-4e1c-a6fd-0c5cb491da3d"
      },
      "execution_count": 34,
      "outputs": [
        {
          "output_type": "execute_result",
          "data": {
            "text/plain": [
              "{'TITLE': Pipeline(steps=[('tfidf', TfidfVectorizer()), ('clf', MultinomialNB(alpha=1))]),\n",
              " 'BULLET_POINTS': Pipeline(steps=[('tfidf', TfidfVectorizer()), ('clf', MultinomialNB(alpha=1))]),\n",
              " 'DESCRIPTION': Pipeline(steps=[('tfidf', TfidfVectorizer()), ('clf', MultinomialNB(alpha=1))])}"
            ]
          },
          "metadata": {},
          "execution_count": 34
        }
      ]
    },
    {
      "cell_type": "code",
      "source": [
        "SCRS"
      ],
      "metadata": {
        "colab": {
          "base_uri": "https://localhost:8080/"
        },
        "id": "ps7a05cXTt4L",
        "outputId": "6f6885aa-aa0d-4d2e-e06e-85fb651ebf84"
      },
      "execution_count": 35,
      "outputs": [
        {
          "output_type": "execute_result",
          "data": {
            "text/plain": [
              "{'TITLE': array([5, 5, 5, ..., 5, 5, 6]),\n",
              " 'BULLET_POINTS': array([5, 5, 5, ..., 5, 5, 5]),\n",
              " 'DESCRIPTION': array([5, 5, 5, ..., 5, 5, 5])}"
            ]
          },
          "metadata": {},
          "execution_count": 35
        }
      ]
    },
    {
      "cell_type": "markdown",
      "source": [
        "# Model 1 - NN"
      ],
      "metadata": {
        "id": "9T9NqHP8XkXe"
      }
    },
    {
      "cell_type": "code",
      "source": [
        "import numpy as np\n",
        "from keras.models import Sequential\n",
        "from keras.layers import Dense, Dropout\n",
        "from tensorflow.keras.optimizers import Adam"
      ],
      "metadata": {
        "id": "yAYVaToAgSpt"
      },
      "execution_count": null,
      "outputs": []
    },
    {
      "cell_type": "code",
      "source": [
        "a = np.array(SCRS['TITLE'])\n",
        "b = np.array(SCRS['BULLET_POINTS'])\n",
        "c = np.array(SCRS['DESCRIPTION'])\n",
        "d = np.array(test['PRODUCT_TYPE_ID'])\n",
        "e = np.array(test['PRODUCT_LENGTH'], dtype=int)"
      ],
      "metadata": {
        "id": "wS76hkO7Ujkd"
      },
      "execution_count": 36,
      "outputs": []
    },
    {
      "cell_type": "code",
      "source": [
        "a, b, c, d, e"
      ],
      "metadata": {
        "colab": {
          "base_uri": "https://localhost:8080/"
        },
        "id": "ewmDHNvVVBTP",
        "outputId": "cffa7742-4c21-42cb-ab35-3afef25c40c6"
      },
      "execution_count": 37,
      "outputs": [
        {
          "output_type": "execute_result",
          "data": {
            "text/plain": [
              "(array([5, 5, 5, ..., 5, 5, 6]),\n",
              " array([5, 5, 5, ..., 5, 5, 5]),\n",
              " array([5, 5, 5, ..., 5, 5, 5]),\n",
              " array([2851, 2124, 6978, ..., 5651,    4, 2640]),\n",
              " array([1102,  669, 2400, ..., 1496,  827, 1500]))"
            ]
          },
          "metadata": {},
          "execution_count": 37
        }
      ]
    },
    {
      "cell_type": "code",
      "source": [
        "# Define the model architecture\n",
        "model = Sequential()\n",
        "model.add(Dense(256, activation='relu', input_dim=4))\n",
        "model.add(Dropout(0.2))\n",
        "model.add(Dense(128, activation='relu'))\n",
        "model.add(Dropout(0.2))\n",
        "model.add(Dense(64, activation='relu'))\n",
        "model.add(Dropout(0.2))\n",
        "model.add(Dense(32, activation='relu'))\n",
        "model.add(Dense(1, activation='linear'))\n",
        "\n",
        "# Optimize\n",
        "optimizer = Adam(lr=0.001)\n",
        "\n",
        "# Compile the model\n",
        "model.compile(loss='mean_squared_error', optimizer=optimizer, metrics=['mae', 'accuracy'])\n",
        "\n",
        "# Train the model\n",
        "model.fit(x=np.array([a, b, c, d]).T, y=e, epochs=100, validation_split=0.2)\n",
        "\n",
        "# Make predictions\n",
        "predictions = model.predict(np.array([a, b, c, d]).T)"
      ],
      "metadata": {
        "colab": {
          "base_uri": "https://localhost:8080/"
        },
        "id": "I40k43bdTvIy",
        "outputId": "90983293-5eda-42aa-a577-db1252812e6a"
      },
      "execution_count": 38,
      "outputs": [
        {
          "output_type": "stream",
          "name": "stdout",
          "text": [
            "Epoch 1/100\n",
            "273/273 [==============================] - 9s 5ms/step - loss: 16173135872.0000 - mae: 3784.5747 - accuracy: 0.0014 - val_loss: 125388224.0000 - val_mae: 1771.7257 - val_accuracy: 4.5935e-04\n",
            "Epoch 2/100\n",
            "273/273 [==============================] - 1s 4ms/step - loss: 16172493824.0000 - mae: 4019.0503 - accuracy: 0.0014 - val_loss: 142116880.0000 - val_mae: 4096.7563 - val_accuracy: 4.5935e-04\n",
            "Epoch 3/100\n",
            "273/273 [==============================] - 2s 7ms/step - loss: 16175026176.0000 - mae: 4108.7432 - accuracy: 0.0014 - val_loss: 131453760.0000 - val_mae: 2954.0718 - val_accuracy: 4.5935e-04\n",
            "Epoch 4/100\n",
            "273/273 [==============================] - 2s 7ms/step - loss: 16173806592.0000 - mae: 4114.7153 - accuracy: 0.0013 - val_loss: 125068624.0000 - val_mae: 1478.4033 - val_accuracy: 4.5935e-04\n",
            "Epoch 5/100\n",
            "273/273 [==============================] - 2s 7ms/step - loss: 16173773824.0000 - mae: 4101.0249 - accuracy: 0.0014 - val_loss: 125056224.0000 - val_mae: 1617.3497 - val_accuracy: 4.5935e-04\n",
            "Epoch 6/100\n",
            "273/273 [==============================] - 1s 4ms/step - loss: 16172838912.0000 - mae: 3918.8267 - accuracy: 0.0013 - val_loss: 125097736.0000 - val_mae: 1430.3361 - val_accuracy: 4.5935e-04\n",
            "Epoch 7/100\n",
            "273/273 [==============================] - 1s 5ms/step - loss: 16173002752.0000 - mae: 4238.0396 - accuracy: 0.0014 - val_loss: 125349984.0000 - val_mae: 1769.7086 - val_accuracy: 4.5935e-04\n",
            "Epoch 8/100\n",
            "273/273 [==============================] - 1s 4ms/step - loss: 16172559360.0000 - mae: 4132.4565 - accuracy: 0.0014 - val_loss: 124986768.0000 - val_mae: 1557.5378 - val_accuracy: 4.5935e-04\n",
            "Epoch 9/100\n",
            "273/273 [==============================] - 1s 4ms/step - loss: 16173423616.0000 - mae: 3896.2205 - accuracy: 0.0014 - val_loss: 124973288.0000 - val_mae: 1535.1157 - val_accuracy: 4.5935e-04\n",
            "Epoch 10/100\n",
            "273/273 [==============================] - 1s 5ms/step - loss: 16171164672.0000 - mae: 4210.6895 - accuracy: 0.0013 - val_loss: 124974192.0000 - val_mae: 1495.6134 - val_accuracy: 4.5935e-04\n",
            "Epoch 11/100\n",
            "273/273 [==============================] - 1s 5ms/step - loss: 16173929472.0000 - mae: 4041.6160 - accuracy: 0.0014 - val_loss: 125343016.0000 - val_mae: 1777.5522 - val_accuracy: 4.5935e-04\n",
            "Epoch 12/100\n",
            "273/273 [==============================] - 2s 7ms/step - loss: 16171872256.0000 - mae: 4114.7227 - accuracy: 0.0014 - val_loss: 124997032.0000 - val_mae: 1575.8767 - val_accuracy: 4.5935e-04\n",
            "Epoch 13/100\n",
            "273/273 [==============================] - 1s 5ms/step - loss: 16172766208.0000 - mae: 3997.4155 - accuracy: 0.0014 - val_loss: 125100704.0000 - val_mae: 1672.1470 - val_accuracy: 4.5935e-04\n",
            "Epoch 14/100\n",
            "273/273 [==============================] - 1s 4ms/step - loss: 16172845056.0000 - mae: 3849.3718 - accuracy: 0.0014 - val_loss: 128222960.0000 - val_mae: 2488.1628 - val_accuracy: 4.5935e-04\n",
            "Epoch 15/100\n",
            "273/273 [==============================] - 1s 5ms/step - loss: 16171983872.0000 - mae: 4093.6985 - accuracy: 0.0014 - val_loss: 125243784.0000 - val_mae: 1422.3977 - val_accuracy: 4.5935e-04\n",
            "Epoch 16/100\n",
            "273/273 [==============================] - 1s 5ms/step - loss: 16172544000.0000 - mae: 3922.7048 - accuracy: 0.0014 - val_loss: 125485224.0000 - val_mae: 1824.6765 - val_accuracy: 4.5935e-04\n",
            "Epoch 17/100\n",
            "273/273 [==============================] - 1s 5ms/step - loss: 16172939264.0000 - mae: 4052.6277 - accuracy: 0.0013 - val_loss: 126789224.0000 - val_mae: 2198.7783 - val_accuracy: 4.5935e-04\n",
            "Epoch 18/100\n",
            "273/273 [==============================] - 1s 4ms/step - loss: 16173259776.0000 - mae: 4157.2603 - accuracy: 0.0014 - val_loss: 125294232.0000 - val_mae: 1771.4363 - val_accuracy: 4.5935e-04\n",
            "Epoch 19/100\n",
            "273/273 [==============================] - 1s 5ms/step - loss: 16171634688.0000 - mae: 3760.6589 - accuracy: 0.0014 - val_loss: 128518928.0000 - val_mae: 2564.3962 - val_accuracy: 4.5935e-04\n",
            "Epoch 20/100\n",
            "273/273 [==============================] - 1s 5ms/step - loss: 16172980224.0000 - mae: 4261.7705 - accuracy: 0.0014 - val_loss: 127676112.0000 - val_mae: 2404.8767 - val_accuracy: 4.5935e-04\n",
            "Epoch 21/100\n",
            "273/273 [==============================] - 2s 7ms/step - loss: 16173199360.0000 - mae: 3894.6960 - accuracy: 0.0014 - val_loss: 131131952.0000 - val_mae: 2970.7522 - val_accuracy: 4.5935e-04\n",
            "Epoch 22/100\n",
            "273/273 [==============================] - 2s 6ms/step - loss: 16174215168.0000 - mae: 4236.7290 - accuracy: 0.0014 - val_loss: 125006000.0000 - val_mae: 1660.2112 - val_accuracy: 4.5935e-04\n",
            "Epoch 23/100\n",
            "273/273 [==============================] - 2s 7ms/step - loss: 16171796480.0000 - mae: 4069.6748 - accuracy: 0.0014 - val_loss: 124868904.0000 - val_mae: 1564.6010 - val_accuracy: 4.5935e-04\n",
            "Epoch 24/100\n",
            "273/273 [==============================] - 2s 8ms/step - loss: 16170388480.0000 - mae: 4062.7954 - accuracy: 0.0014 - val_loss: 125133728.0000 - val_mae: 1750.2628 - val_accuracy: 4.5935e-04\n",
            "Epoch 25/100\n",
            "273/273 [==============================] - 2s 8ms/step - loss: 16172047360.0000 - mae: 4305.6006 - accuracy: 0.0014 - val_loss: 124843840.0000 - val_mae: 1584.5583 - val_accuracy: 4.5935e-04\n",
            "Epoch 26/100\n",
            "273/273 [==============================] - 2s 7ms/step - loss: 16171852800.0000 - mae: 4016.9180 - accuracy: 0.0014 - val_loss: 129535832.0000 - val_mae: 2754.3049 - val_accuracy: 4.5935e-04\n",
            "Epoch 27/100\n",
            "273/273 [==============================] - 3s 10ms/step - loss: 16171131904.0000 - mae: 4174.9126 - accuracy: 0.0014 - val_loss: 125239808.0000 - val_mae: 1783.2731 - val_accuracy: 4.5935e-04\n",
            "Epoch 28/100\n",
            "273/273 [==============================] - 2s 6ms/step - loss: 16170889216.0000 - mae: 3942.3162 - accuracy: 0.0014 - val_loss: 128300976.0000 - val_mae: 2563.9290 - val_accuracy: 4.5935e-04\n",
            "Epoch 29/100\n",
            "273/273 [==============================] - 1s 5ms/step - loss: 16173795328.0000 - mae: 4164.9795 - accuracy: 0.0014 - val_loss: 129495224.0000 - val_mae: 2768.4966 - val_accuracy: 4.5935e-04\n",
            "Epoch 30/100\n",
            "273/273 [==============================] - 1s 4ms/step - loss: 16171339776.0000 - mae: 4237.5371 - accuracy: 0.0014 - val_loss: 125685792.0000 - val_mae: 1947.8036 - val_accuracy: 4.5935e-04\n",
            "Epoch 31/100\n",
            "273/273 [==============================] - 1s 4ms/step - loss: 16170567680.0000 - mae: 4210.1592 - accuracy: 0.0014 - val_loss: 124821512.0000 - val_mae: 1542.5056 - val_accuracy: 4.5935e-04\n",
            "Epoch 32/100\n",
            "273/273 [==============================] - 1s 4ms/step - loss: 16173024256.0000 - mae: 3953.8479 - accuracy: 0.0014 - val_loss: 129261952.0000 - val_mae: 2754.1238 - val_accuracy: 4.5935e-04\n",
            "Epoch 33/100\n",
            "273/273 [==============================] - 1s 5ms/step - loss: 16171693056.0000 - mae: 4194.2598 - accuracy: 0.0014 - val_loss: 124901168.0000 - val_mae: 1670.3654 - val_accuracy: 4.5935e-04\n",
            "Epoch 34/100\n",
            "273/273 [==============================] - 1s 4ms/step - loss: 16171127808.0000 - mae: 4052.5845 - accuracy: 0.0014 - val_loss: 126758392.0000 - val_mae: 2287.8982 - val_accuracy: 4.5935e-04\n",
            "Epoch 35/100\n",
            "273/273 [==============================] - 1s 5ms/step - loss: 16171070464.0000 - mae: 4326.4990 - accuracy: 0.0014 - val_loss: 124732656.0000 - val_mae: 1501.4764 - val_accuracy: 4.5935e-04\n",
            "Epoch 36/100\n",
            "273/273 [==============================] - 2s 7ms/step - loss: 16171870208.0000 - mae: 3920.6626 - accuracy: 0.0014 - val_loss: 128606592.0000 - val_mae: 2673.1316 - val_accuracy: 4.5935e-04\n",
            "Epoch 37/100\n",
            "273/273 [==============================] - 1s 5ms/step - loss: 16172490752.0000 - mae: 4319.2363 - accuracy: 0.0014 - val_loss: 124975240.0000 - val_mae: 1757.2562 - val_accuracy: 4.5935e-04\n",
            "Epoch 38/100\n",
            "273/273 [==============================] - 2s 6ms/step - loss: 16172010496.0000 - mae: 4163.8599 - accuracy: 0.0014 - val_loss: 124664160.0000 - val_mae: 1573.4935 - val_accuracy: 4.5935e-04\n",
            "Epoch 39/100\n",
            "273/273 [==============================] - 2s 6ms/step - loss: 16171879424.0000 - mae: 4070.5325 - accuracy: 0.0014 - val_loss: 124735720.0000 - val_mae: 1645.8126 - val_accuracy: 4.5935e-04\n",
            "Epoch 40/100\n",
            "273/273 [==============================] - 2s 6ms/step - loss: 16171997184.0000 - mae: 4064.6699 - accuracy: 0.0014 - val_loss: 124749744.0000 - val_mae: 1623.2551 - val_accuracy: 4.5935e-04\n",
            "Epoch 41/100\n",
            "273/273 [==============================] - 2s 7ms/step - loss: 16172093440.0000 - mae: 4068.0400 - accuracy: 0.0014 - val_loss: 124899152.0000 - val_mae: 1734.3274 - val_accuracy: 4.5935e-04\n",
            "Epoch 42/100\n",
            "273/273 [==============================] - 1s 4ms/step - loss: 16171523072.0000 - mae: 3910.5637 - accuracy: 0.0014 - val_loss: 126757584.0000 - val_mae: 2322.7664 - val_accuracy: 4.5935e-04\n",
            "Epoch 43/100\n",
            "273/273 [==============================] - 1s 5ms/step - loss: 16171090944.0000 - mae: 4416.6855 - accuracy: 0.0014 - val_loss: 124806248.0000 - val_mae: 1701.7198 - val_accuracy: 4.5935e-04\n",
            "Epoch 44/100\n",
            "273/273 [==============================] - 2s 8ms/step - loss: 16171103232.0000 - mae: 4194.4927 - accuracy: 0.0014 - val_loss: 124703040.0000 - val_mae: 1591.9255 - val_accuracy: 4.5935e-04\n",
            "Epoch 45/100\n",
            "273/273 [==============================] - 2s 9ms/step - loss: 16171678720.0000 - mae: 4051.4858 - accuracy: 0.0014 - val_loss: 125162496.0000 - val_mae: 1823.2345 - val_accuracy: 4.5935e-04\n",
            "Epoch 46/100\n",
            "273/273 [==============================] - 1s 4ms/step - loss: 16170601472.0000 - mae: 4184.5420 - accuracy: 0.0014 - val_loss: 124687544.0000 - val_mae: 1516.2753 - val_accuracy: 4.5935e-04\n",
            "Epoch 47/100\n",
            "273/273 [==============================] - 1s 5ms/step - loss: 16172412928.0000 - mae: 4025.4707 - accuracy: 0.0014 - val_loss: 124827192.0000 - val_mae: 1681.3844 - val_accuracy: 4.5935e-04\n",
            "Epoch 48/100\n",
            "273/273 [==============================] - 2s 6ms/step - loss: 16171075584.0000 - mae: 3833.2737 - accuracy: 0.0014 - val_loss: 130270848.0000 - val_mae: 2949.8713 - val_accuracy: 4.5935e-04\n",
            "Epoch 49/100\n",
            "273/273 [==============================] - 1s 4ms/step - loss: 16170316800.0000 - mae: 4264.3076 - accuracy: 0.0014 - val_loss: 136237536.0000 - val_mae: 3703.5505 - val_accuracy: 4.5935e-04\n",
            "Epoch 50/100\n",
            "273/273 [==============================] - 1s 4ms/step - loss: 16172237824.0000 - mae: 4311.6460 - accuracy: 0.0014 - val_loss: 124776832.0000 - val_mae: 1698.6075 - val_accuracy: 4.5935e-04\n",
            "Epoch 51/100\n",
            "273/273 [==============================] - 2s 6ms/step - loss: 16171792384.0000 - mae: 4214.0317 - accuracy: 0.0014 - val_loss: 124686224.0000 - val_mae: 1630.3218 - val_accuracy: 4.5935e-04\n",
            "Epoch 52/100\n",
            "273/273 [==============================] - 2s 9ms/step - loss: 16171422720.0000 - mae: 4059.7886 - accuracy: 0.0014 - val_loss: 125380824.0000 - val_mae: 1948.8578 - val_accuracy: 4.5935e-04\n",
            "Epoch 53/100\n",
            "273/273 [==============================] - 2s 8ms/step - loss: 16171559936.0000 - mae: 3929.0815 - accuracy: 0.0014 - val_loss: 128300912.0000 - val_mae: 2647.2573 - val_accuracy: 4.5935e-04\n",
            "Epoch 54/100\n",
            "273/273 [==============================] - 2s 6ms/step - loss: 16171486208.0000 - mae: 4171.2041 - accuracy: 0.0014 - val_loss: 130138632.0000 - val_mae: 2943.1448 - val_accuracy: 4.5935e-04\n",
            "Epoch 55/100\n",
            "273/273 [==============================] - 1s 5ms/step - loss: 16171902976.0000 - mae: 4053.1316 - accuracy: 0.0014 - val_loss: 126941152.0000 - val_mae: 2376.3638 - val_accuracy: 4.5935e-04\n",
            "Epoch 56/100\n",
            "273/273 [==============================] - 1s 4ms/step - loss: 16169993216.0000 - mae: 4434.7812 - accuracy: 0.0014 - val_loss: 125622632.0000 - val_mae: 2018.8401 - val_accuracy: 4.5935e-04\n",
            "Epoch 57/100\n",
            "273/273 [==============================] - 1s 5ms/step - loss: 16171085824.0000 - mae: 4137.1069 - accuracy: 0.0014 - val_loss: 125011592.0000 - val_mae: 1804.3711 - val_accuracy: 4.5935e-04\n",
            "Epoch 58/100\n",
            "273/273 [==============================] - 1s 4ms/step - loss: 16171287552.0000 - mae: 4128.3696 - accuracy: 0.0014 - val_loss: 124666456.0000 - val_mae: 1624.6661 - val_accuracy: 4.5935e-04\n",
            "Epoch 59/100\n",
            "273/273 [==============================] - 2s 6ms/step - loss: 16171099136.0000 - mae: 4095.0242 - accuracy: 0.0014 - val_loss: 124872672.0000 - val_mae: 1751.8099 - val_accuracy: 4.5935e-04\n",
            "Epoch 60/100\n",
            "273/273 [==============================] - 2s 8ms/step - loss: 16171455488.0000 - mae: 4183.0273 - accuracy: 0.0014 - val_loss: 124779136.0000 - val_mae: 1696.4290 - val_accuracy: 4.5935e-04\n",
            "Epoch 61/100\n",
            "273/273 [==============================] - 1s 4ms/step - loss: 16170131456.0000 - mae: 4056.0959 - accuracy: 0.0014 - val_loss: 127354328.0000 - val_mae: 2474.1814 - val_accuracy: 4.5935e-04\n",
            "Epoch 62/100\n",
            "273/273 [==============================] - 1s 5ms/step - loss: 16171330560.0000 - mae: 4226.4453 - accuracy: 0.0014 - val_loss: 124603296.0000 - val_mae: 1493.3063 - val_accuracy: 4.5935e-04\n",
            "Epoch 63/100\n",
            "273/273 [==============================] - 1s 4ms/step - loss: 16169807872.0000 - mae: 4223.2646 - accuracy: 0.0014 - val_loss: 124680480.0000 - val_mae: 1611.5875 - val_accuracy: 4.5935e-04\n",
            "Epoch 64/100\n",
            "273/273 [==============================] - 1s 4ms/step - loss: 16170808320.0000 - mae: 3926.9341 - accuracy: 0.0014 - val_loss: 125819040.0000 - val_mae: 2117.5762 - val_accuracy: 4.5935e-04\n",
            "Epoch 65/100\n",
            "273/273 [==============================] - 1s 5ms/step - loss: 16171507712.0000 - mae: 4133.4194 - accuracy: 0.0014 - val_loss: 126869432.0000 - val_mae: 2399.6597 - val_accuracy: 4.5935e-04\n",
            "Epoch 66/100\n",
            "273/273 [==============================] - 1s 4ms/step - loss: 16170721280.0000 - mae: 4304.5630 - accuracy: 0.0014 - val_loss: 124743016.0000 - val_mae: 1739.2393 - val_accuracy: 4.5935e-04\n",
            "Epoch 67/100\n",
            "273/273 [==============================] - 1s 5ms/step - loss: 16170362880.0000 - mae: 4237.6548 - accuracy: 0.0014 - val_loss: 124826160.0000 - val_mae: 1705.8590 - val_accuracy: 4.5935e-04\n",
            "Epoch 68/100\n",
            "273/273 [==============================] - 2s 6ms/step - loss: 16169574400.0000 - mae: 4305.5459 - accuracy: 0.0014 - val_loss: 124751136.0000 - val_mae: 1680.4921 - val_accuracy: 4.5935e-04\n",
            "Epoch 69/100\n",
            "273/273 [==============================] - 2s 6ms/step - loss: 16170869760.0000 - mae: 3868.3235 - accuracy: 0.0014 - val_loss: 127156280.0000 - val_mae: 2459.5725 - val_accuracy: 4.5935e-04\n",
            "Epoch 70/100\n",
            "273/273 [==============================] - 2s 8ms/step - loss: 16169687040.0000 - mae: 4082.6174 - accuracy: 0.0014 - val_loss: 131769808.0000 - val_mae: 3211.6401 - val_accuracy: 4.5935e-04\n",
            "Epoch 71/100\n",
            "273/273 [==============================] - 2s 7ms/step - loss: 16171453440.0000 - mae: 4255.3193 - accuracy: 0.0014 - val_loss: 126111976.0000 - val_mae: 2226.7656 - val_accuracy: 4.5935e-04\n",
            "Epoch 72/100\n",
            "273/273 [==============================] - 1s 5ms/step - loss: 16171239424.0000 - mae: 4047.9302 - accuracy: 0.0014 - val_loss: 127080928.0000 - val_mae: 2451.6565 - val_accuracy: 4.5935e-04\n",
            "Epoch 73/100\n",
            "273/273 [==============================] - 1s 4ms/step - loss: 16172379136.0000 - mae: 4168.3979 - accuracy: 0.0014 - val_loss: 124444936.0000 - val_mae: 1426.0409 - val_accuracy: 4.5935e-04\n",
            "Epoch 74/100\n",
            "273/273 [==============================] - 1s 4ms/step - loss: 16171355136.0000 - mae: 4203.9741 - accuracy: 0.0014 - val_loss: 124607496.0000 - val_mae: 1677.2162 - val_accuracy: 4.5935e-04\n",
            "Epoch 75/100\n",
            "273/273 [==============================] - 1s 4ms/step - loss: 16168948736.0000 - mae: 4222.7627 - accuracy: 0.0014 - val_loss: 125294640.0000 - val_mae: 2000.4070 - val_accuracy: 4.5935e-04\n",
            "Epoch 76/100\n",
            "273/273 [==============================] - 2s 6ms/step - loss: 16171621376.0000 - mae: 4095.8657 - accuracy: 0.0014 - val_loss: 125198920.0000 - val_mae: 1973.3695 - val_accuracy: 4.5935e-04\n",
            "Epoch 77/100\n",
            "273/273 [==============================] - 2s 6ms/step - loss: 16169543680.0000 - mae: 4185.1992 - accuracy: 0.0014 - val_loss: 124437432.0000 - val_mae: 1446.1135 - val_accuracy: 4.5935e-04\n",
            "Epoch 78/100\n",
            "273/273 [==============================] - 1s 4ms/step - loss: 16171262976.0000 - mae: 4223.7246 - accuracy: 0.0014 - val_loss: 125051728.0000 - val_mae: 1921.2441 - val_accuracy: 4.5935e-04\n",
            "Epoch 79/100\n",
            "273/273 [==============================] - 1s 5ms/step - loss: 16170029056.0000 - mae: 4153.9648 - accuracy: 0.0014 - val_loss: 124377488.0000 - val_mae: 1435.5034 - val_accuracy: 4.5935e-04\n",
            "Epoch 80/100\n",
            "273/273 [==============================] - 1s 5ms/step - loss: 16170795008.0000 - mae: 4212.4668 - accuracy: 0.0014 - val_loss: 124576696.0000 - val_mae: 1312.9424 - val_accuracy: 4.5935e-04\n",
            "Epoch 81/100\n",
            "273/273 [==============================] - 1s 4ms/step - loss: 16171380736.0000 - mae: 3906.1995 - accuracy: 0.0014 - val_loss: 128174960.0000 - val_mae: 2704.3208 - val_accuracy: 4.5935e-04\n",
            "Epoch 82/100\n",
            "273/273 [==============================] - 1s 5ms/step - loss: 16172428288.0000 - mae: 4019.3789 - accuracy: 0.0014 - val_loss: 124494992.0000 - val_mae: 1450.1613 - val_accuracy: 4.5935e-04\n",
            "Epoch 83/100\n",
            "273/273 [==============================] - 1s 4ms/step - loss: 16171732992.0000 - mae: 3963.4368 - accuracy: 0.0014 - val_loss: 124617760.0000 - val_mae: 1559.9431 - val_accuracy: 4.5935e-04\n",
            "Epoch 84/100\n",
            "273/273 [==============================] - 1s 5ms/step - loss: 16170906624.0000 - mae: 3840.4507 - accuracy: 0.0014 - val_loss: 124647008.0000 - val_mae: 1625.1495 - val_accuracy: 4.5935e-04\n",
            "Epoch 85/100\n",
            "273/273 [==============================] - 2s 6ms/step - loss: 16171916288.0000 - mae: 4171.1572 - accuracy: 0.0014 - val_loss: 125394568.0000 - val_mae: 1995.5397 - val_accuracy: 4.5935e-04\n",
            "Epoch 86/100\n",
            "273/273 [==============================] - 2s 6ms/step - loss: 16170505216.0000 - mae: 3926.2163 - accuracy: 0.0014 - val_loss: 125912944.0000 - val_mae: 2127.3735 - val_accuracy: 4.5935e-04\n",
            "Epoch 87/100\n",
            "273/273 [==============================] - 1s 5ms/step - loss: 16170286080.0000 - mae: 4542.1240 - accuracy: 0.0014 - val_loss: 124474808.0000 - val_mae: 1443.0863 - val_accuracy: 4.5935e-04\n",
            "Epoch 88/100\n",
            "273/273 [==============================] - 1s 5ms/step - loss: 16171547648.0000 - mae: 4069.0242 - accuracy: 0.0014 - val_loss: 124941224.0000 - val_mae: 1823.0679 - val_accuracy: 4.5935e-04\n",
            "Epoch 89/100\n",
            "273/273 [==============================] - 1s 5ms/step - loss: 16171922432.0000 - mae: 3966.9487 - accuracy: 0.0014 - val_loss: 124816296.0000 - val_mae: 1752.3330 - val_accuracy: 4.5935e-04\n",
            "Epoch 90/100\n",
            "273/273 [==============================] - 2s 6ms/step - loss: 16170358784.0000 - mae: 4061.9397 - accuracy: 0.0014 - val_loss: 124549360.0000 - val_mae: 1371.6882 - val_accuracy: 4.5935e-04\n",
            "Epoch 91/100\n",
            "273/273 [==============================] - 2s 7ms/step - loss: 16172746752.0000 - mae: 4008.0886 - accuracy: 0.0014 - val_loss: 126418912.0000 - val_mae: 2271.9934 - val_accuracy: 4.5935e-04\n",
            "Epoch 92/100\n",
            "273/273 [==============================] - 3s 11ms/step - loss: 16171166720.0000 - mae: 4183.8345 - accuracy: 0.0014 - val_loss: 124958800.0000 - val_mae: 1315.4785 - val_accuracy: 4.5935e-04\n",
            "Epoch 93/100\n",
            "273/273 [==============================] - 3s 10ms/step - loss: 16171947008.0000 - mae: 3953.5125 - accuracy: 0.0014 - val_loss: 125261376.0000 - val_mae: 1900.4943 - val_accuracy: 4.5935e-04\n",
            "Epoch 94/100\n",
            "273/273 [==============================] - 3s 9ms/step - loss: 16169932800.0000 - mae: 3858.5891 - accuracy: 0.0014 - val_loss: 126690344.0000 - val_mae: 2305.5918 - val_accuracy: 4.5935e-04\n",
            "Epoch 95/100\n",
            "273/273 [==============================] - 2s 7ms/step - loss: 16171382784.0000 - mae: 4281.8774 - accuracy: 0.0014 - val_loss: 126216560.0000 - val_mae: 2200.6975 - val_accuracy: 4.5935e-04\n",
            "Epoch 96/100\n",
            "273/273 [==============================] - 1s 4ms/step - loss: 16171401216.0000 - mae: 4105.5610 - accuracy: 0.0014 - val_loss: 125539600.0000 - val_mae: 2020.6913 - val_accuracy: 4.5935e-04\n",
            "Epoch 97/100\n",
            "273/273 [==============================] - 1s 5ms/step - loss: 16172945408.0000 - mae: 4067.0825 - accuracy: 0.0014 - val_loss: 126195304.0000 - val_mae: 2210.5012 - val_accuracy: 4.5935e-04\n",
            "Epoch 98/100\n",
            "273/273 [==============================] - 1s 5ms/step - loss: 16172394496.0000 - mae: 3974.9097 - accuracy: 0.0014 - val_loss: 124650456.0000 - val_mae: 1392.5120 - val_accuracy: 4.5935e-04\n",
            "Epoch 99/100\n",
            "273/273 [==============================] - 2s 8ms/step - loss: 16171039744.0000 - mae: 3780.5586 - accuracy: 0.0014 - val_loss: 125337512.0000 - val_mae: 1935.1486 - val_accuracy: 4.5935e-04\n",
            "Epoch 100/100\n",
            "273/273 [==============================] - 2s 7ms/step - loss: 16172372992.0000 - mae: 4307.8579 - accuracy: 0.0014 - val_loss: 125868792.0000 - val_mae: 2102.6733 - val_accuracy: 4.5935e-04\n",
            "341/341 [==============================] - 1s 2ms/step\n"
          ]
        }
      ]
    },
    {
      "cell_type": "code",
      "source": [
        "predictions"
      ],
      "metadata": {
        "colab": {
          "base_uri": "https://localhost:8080/"
        },
        "id": "lYjkE-HGYVip",
        "outputId": "b0f854ed-b140-4251-ee3d-7148c77ca818"
      },
      "execution_count": 39,
      "outputs": [
        {
          "output_type": "execute_result",
          "data": {
            "text/plain": [
              "array([[1396.5579 ],\n",
              "       [1160.3962 ],\n",
              "       [2674.7927 ],\n",
              "       ...,\n",
              "       [2265.8494 ],\n",
              "       [ 752.58026],\n",
              "       [1356.2566 ]], dtype=float32)"
            ]
          },
          "metadata": {},
          "execution_count": 39
        }
      ]
    },
    {
      "cell_type": "code",
      "source": [
        "# Scoring\n",
        "MAPE = 100 * np.mean(np.abs(e - predictions) / predictions)\n",
        "score = max( 0 , 100*(1-MAPE))\n",
        "print(MAPE, score)"
      ],
      "metadata": {
        "colab": {
          "base_uri": "https://localhost:8080/"
        },
        "id": "wEdSk25cZA7s",
        "outputId": "89e80065-2fbd-4529-bc31-9cc529e13ebe"
      },
      "execution_count": 63,
      "outputs": [
        {
          "output_type": "stream",
          "name": "stdout",
          "text": [
            "210.1806594112146 0\n"
          ]
        }
      ]
    }
  ]
}